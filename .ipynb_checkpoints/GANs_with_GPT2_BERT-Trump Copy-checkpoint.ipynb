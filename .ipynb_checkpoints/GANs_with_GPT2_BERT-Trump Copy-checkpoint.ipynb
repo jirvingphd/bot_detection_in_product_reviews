{
 "cells": [
  {
   "cell_type": "code",
   "execution_count": 3,
   "metadata": {
    "ExecuteTime": {
     "end_time": "2020-11-13T17:07:10.332576Z",
     "start_time": "2020-11-13T17:07:02.324009Z"
    }
   },
   "outputs": [
    {
     "name": "stderr",
     "output_type": "stream",
     "text": [
      "[nltk_data] Downloading package punkt to\n",
      "[nltk_data]     C:\\Users\\james\\AppData\\Roaming\\nltk_data...\n",
      "[nltk_data]   Unzipping tokenizers\\punkt.zip.\n"
     ]
    }
   ],
   "source": [
    "import os\n",
    "import random\n",
    "import time\n",
    "\n",
    "import numpy as np\n",
    "import pandas as pd\n",
    "from matplotlib import pyplot as plt\n",
    "import seaborn as sns\n",
    "\n",
    "import torch\n",
    "from torch import nn\n",
    "from torch.nn import functional as F\n",
    "from torch.nn import CrossEntropyLoss\n",
    "from torch.utils.data import Dataset, DataLoader, RandomSampler, SequentialSampler, random_split\n",
    "torch.manual_seed(42)\n",
    "\n",
    "from transformers import pipelines\n",
    "from transformers import GPT2LMHeadModel,  GPT2Tokenizer, GPT2Config, GPT2LMHeadModel\n",
    "from transformers import AdamW, get_linear_schedule_with_warmup\n",
    "\n",
    "from pymongo import MongoClient\n",
    "\n",
    "from tqdm.notebook import tqdm_notebook as tqdm\n",
    "\n",
    "import nltk\n",
    "nltk.download('punkt')\n",
    "\n",
    "import warnings\n",
    "%matplotlib inline\n",
    "warnings.filterwarnings('ignore')"
   ]
  },
  {
   "cell_type": "code",
   "execution_count": 51,
   "metadata": {
    "ExecuteTime": {
     "end_time": "2020-11-13T17:07:10.340577Z",
     "start_time": "2020-11-13T17:07:10.333575Z"
    }
   },
   "outputs": [],
   "source": [
    "# client = MongoClient()"
   ]
  },
  {
   "cell_type": "code",
   "execution_count": 52,
   "metadata": {
    "ExecuteTime": {
     "end_time": "2020-11-13T17:07:10.344575Z",
     "start_time": "2020-11-13T17:07:10.342576Z"
    }
   },
   "outputs": [],
   "source": [
    "# db = client['reviews']"
   ]
  },
  {
   "cell_type": "code",
   "execution_count": 53,
   "metadata": {
    "ExecuteTime": {
     "end_time": "2020-11-13T17:07:10.351578Z",
     "start_time": "2020-11-13T17:07:10.345576Z"
    }
   },
   "outputs": [],
   "source": [
    "# collection = db['reviews']"
   ]
  },
  {
   "cell_type": "markdown",
   "metadata": {},
   "source": [
    "# BOOKMARK: get my own dataset for training"
   ]
  },
  {
   "cell_type": "markdown",
   "metadata": {},
   "source": [
    "- Must make my own `reviews` df"
   ]
  },
  {
   "cell_type": "code",
   "execution_count": 16,
   "metadata": {},
   "outputs": [
    {
     "name": "stdout",
     "output_type": "stream",
     "text": [
      "[i] Tweet data successfully downloaded and saved as:\n",
      "-  trump_tweets_11-14-20.csv\n"
     ]
    }
   ],
   "source": [
    "def download_trump_tweets(fpath='trump_tweets.csv',append_date=True,\n",
    "                          verbose=True,return_data=True):\n",
    "    \"\"\"Downloads the most recent data from the trumptwittearchive v2.\n",
    "    https://drive.google.com/uc?export=download&id=1JZnhB0Nq_2RKtDb-IOnd0XxnD5c7x-nQ\n",
    "    \n",
    "    Args:\n",
    "        fpath (str): filepath for data that ends with .csv\n",
    "        append_date (bool): Whether to save today's date as part of filename(Default=True)\n",
    "        verbose (bool): Whether to print the file name (Default=True)\n",
    "        return_data (bool): Whether to return the data as a df (Default=True)\"\"\"\n",
    "#     url = \"https://www.thetrumparchive.com/latest-tweets\"        ## Import data downloading packages\n",
    "    import datetime as dt\n",
    "    import requests\n",
    "    import pandas as pd\n",
    "    import json\n",
    "\n",
    "    url=\"https://drive.google.com/uc?export=download&id=1JZnhB0Nq_2RKtDb-IOnd0XxnD5c7x-nQ\"\n",
    "    response = requests.get(url)\n",
    "    \n",
    "    if append_date:\n",
    "        suffix = \"_\"+dt.date.today().strftime('%m-%d-%y')\n",
    "        filepath = f\"{fpath.split('.')[0]}{suffix}.{fpath.split('.')[-1]}\"\n",
    "    else:\n",
    "        filepath=fpath\n",
    "        \n",
    "        \n",
    "    ## Save output to csv file\n",
    "    with open(filepath,'wb') as file:\n",
    "        file.write(response.content)  \n",
    "        \n",
    "#     with open(filepath,'w') as f:\n",
    "# #         f.write(response.content)\n",
    "#         f.write(json.dumps(response.json()))\n",
    "    \n",
    "#     if fpath.endswith('.csv'):\n",
    "#         tweets = pd.read_json(filepath)\n",
    "#         tweets.to_csv(filepath)\n",
    "#     else: \n",
    "#         tweets = pd.read_json(filepath)\n",
    "        \n",
    "    if verbose:\n",
    "        print('[i] Tweet data successfully downloaded and saved as:')\n",
    "        print('- ',filepath)\n",
    "        \n",
    "    if return_data:\n",
    "\n",
    "        return pd.read_csv(filepath,index_col=0,parse_dates=['date'])\n",
    "#tweets#,parse_dates=['created_at'])\n",
    "\n",
    "\n",
    "df = download_trump_tweets()"
   ]
  },
  {
   "cell_type": "code",
   "execution_count": 17,
   "metadata": {},
   "outputs": [
    {
     "data": {
      "text/html": [
       "<div>\n",
       "<style scoped>\n",
       "    .dataframe tbody tr th:only-of-type {\n",
       "        vertical-align: middle;\n",
       "    }\n",
       "\n",
       "    .dataframe tbody tr th {\n",
       "        vertical-align: top;\n",
       "    }\n",
       "\n",
       "    .dataframe thead th {\n",
       "        text-align: right;\n",
       "    }\n",
       "</style>\n",
       "<table border=\"1\" class=\"dataframe\">\n",
       "  <thead>\n",
       "    <tr style=\"text-align: right;\">\n",
       "      <th></th>\n",
       "      <th>text</th>\n",
       "      <th>isRetweet</th>\n",
       "      <th>isDeleted</th>\n",
       "      <th>device</th>\n",
       "      <th>favorites</th>\n",
       "      <th>retweets</th>\n",
       "      <th>date</th>\n",
       "    </tr>\n",
       "    <tr>\n",
       "      <th>id</th>\n",
       "      <th></th>\n",
       "      <th></th>\n",
       "      <th></th>\n",
       "      <th></th>\n",
       "      <th></th>\n",
       "      <th></th>\n",
       "      <th></th>\n",
       "    </tr>\n",
       "  </thead>\n",
       "  <tbody>\n",
       "    <tr>\n",
       "      <td>98454970654916608</td>\n",
       "      <td>Republicans and Democrats have both created ou...</td>\n",
       "      <td>f</td>\n",
       "      <td>f</td>\n",
       "      <td>TweetDeck</td>\n",
       "      <td>49</td>\n",
       "      <td>255</td>\n",
       "      <td>2011-08-02 18:07:48</td>\n",
       "    </tr>\n",
       "    <tr>\n",
       "      <td>1234653427789070336</td>\n",
       "      <td>I was thrilled to be back in the Great city of...</td>\n",
       "      <td>f</td>\n",
       "      <td>f</td>\n",
       "      <td>Twitter for iPhone</td>\n",
       "      <td>73748</td>\n",
       "      <td>17404</td>\n",
       "      <td>2020-03-03 01:34:50</td>\n",
       "    </tr>\n",
       "    <tr>\n",
       "      <td>1218010753434820614</td>\n",
       "      <td>RT @CBS_Herridge: READ: Letter to surveillance...</td>\n",
       "      <td>t</td>\n",
       "      <td>f</td>\n",
       "      <td>Twitter for iPhone</td>\n",
       "      <td>0</td>\n",
       "      <td>7396</td>\n",
       "      <td>2020-01-17 03:22:47</td>\n",
       "    </tr>\n",
       "    <tr>\n",
       "      <td>1304875170860015617</td>\n",
       "      <td>The Unsolicited Mail In Ballot Scam is a major...</td>\n",
       "      <td>f</td>\n",
       "      <td>f</td>\n",
       "      <td>Twitter for iPhone</td>\n",
       "      <td>80527</td>\n",
       "      <td>23502</td>\n",
       "      <td>2020-09-12 20:10:58</td>\n",
       "    </tr>\n",
       "    <tr>\n",
       "      <td>1218159531554897920</td>\n",
       "      <td>RT @MZHemingway: Very friendly telling of even...</td>\n",
       "      <td>t</td>\n",
       "      <td>f</td>\n",
       "      <td>Twitter for iPhone</td>\n",
       "      <td>0</td>\n",
       "      <td>9081</td>\n",
       "      <td>2020-01-17 13:13:59</td>\n",
       "    </tr>\n",
       "    <tr>\n",
       "      <td>...</td>\n",
       "      <td>...</td>\n",
       "      <td>...</td>\n",
       "      <td>...</td>\n",
       "      <td>...</td>\n",
       "      <td>...</td>\n",
       "      <td>...</td>\n",
       "      <td>...</td>\n",
       "    </tr>\n",
       "    <tr>\n",
       "      <td>1319484210101379072</td>\n",
       "      <td>RT @EliseStefanik: President @realDonaldTrump ...</td>\n",
       "      <td>t</td>\n",
       "      <td>f</td>\n",
       "      <td>Twitter for iPhone</td>\n",
       "      <td>0</td>\n",
       "      <td>9912</td>\n",
       "      <td>2020-10-23 03:42:05</td>\n",
       "    </tr>\n",
       "    <tr>\n",
       "      <td>1319444420861829121</td>\n",
       "      <td>RT @TeamTrump: LIVE: Presidential Debate #Deba...</td>\n",
       "      <td>t</td>\n",
       "      <td>f</td>\n",
       "      <td>Twitter for iPhone</td>\n",
       "      <td>0</td>\n",
       "      <td>8249</td>\n",
       "      <td>2020-10-23 01:03:58</td>\n",
       "    </tr>\n",
       "    <tr>\n",
       "      <td>1319384118849949702</td>\n",
       "      <td>Just signed an order to support the workers of...</td>\n",
       "      <td>f</td>\n",
       "      <td>f</td>\n",
       "      <td>Twitter for iPhone</td>\n",
       "      <td>175950</td>\n",
       "      <td>36098</td>\n",
       "      <td>2020-10-22 21:04:21</td>\n",
       "    </tr>\n",
       "    <tr>\n",
       "      <td>1319345719829008387</td>\n",
       "      <td>Suburban women want Safety &amp;amp; Security. Joe...</td>\n",
       "      <td>f</td>\n",
       "      <td>f</td>\n",
       "      <td>Twitter for iPhone</td>\n",
       "      <td>95325</td>\n",
       "      <td>19639</td>\n",
       "      <td>2020-10-22 18:31:46</td>\n",
       "    </tr>\n",
       "    <tr>\n",
       "      <td>1319339440867741696</td>\n",
       "      <td>Just left the White House for the Great State ...</td>\n",
       "      <td>f</td>\n",
       "      <td>f</td>\n",
       "      <td>Twitter for iPhone</td>\n",
       "      <td>137363</td>\n",
       "      <td>20791</td>\n",
       "      <td>2020-10-22 18:06:49</td>\n",
       "    </tr>\n",
       "  </tbody>\n",
       "</table>\n",
       "<p>54442 rows × 7 columns</p>\n",
       "</div>"
      ],
      "text/plain": [
       "                                                                  text  \\\n",
       "id                                                                       \n",
       "98454970654916608    Republicans and Democrats have both created ou...   \n",
       "1234653427789070336  I was thrilled to be back in the Great city of...   \n",
       "1218010753434820614  RT @CBS_Herridge: READ: Letter to surveillance...   \n",
       "1304875170860015617  The Unsolicited Mail In Ballot Scam is a major...   \n",
       "1218159531554897920  RT @MZHemingway: Very friendly telling of even...   \n",
       "...                                                                ...   \n",
       "1319484210101379072  RT @EliseStefanik: President @realDonaldTrump ...   \n",
       "1319444420861829121  RT @TeamTrump: LIVE: Presidential Debate #Deba...   \n",
       "1319384118849949702  Just signed an order to support the workers of...   \n",
       "1319345719829008387  Suburban women want Safety &amp; Security. Joe...   \n",
       "1319339440867741696  Just left the White House for the Great State ...   \n",
       "\n",
       "                    isRetweet isDeleted              device  favorites  \\\n",
       "id                                                                       \n",
       "98454970654916608           f         f           TweetDeck         49   \n",
       "1234653427789070336         f         f  Twitter for iPhone      73748   \n",
       "1218010753434820614         t         f  Twitter for iPhone          0   \n",
       "1304875170860015617         f         f  Twitter for iPhone      80527   \n",
       "1218159531554897920         t         f  Twitter for iPhone          0   \n",
       "...                       ...       ...                 ...        ...   \n",
       "1319484210101379072         t         f  Twitter for iPhone          0   \n",
       "1319444420861829121         t         f  Twitter for iPhone          0   \n",
       "1319384118849949702         f         f  Twitter for iPhone     175950   \n",
       "1319345719829008387         f         f  Twitter for iPhone      95325   \n",
       "1319339440867741696         f         f  Twitter for iPhone     137363   \n",
       "\n",
       "                     retweets                date  \n",
       "id                                                 \n",
       "98454970654916608         255 2011-08-02 18:07:48  \n",
       "1234653427789070336     17404 2020-03-03 01:34:50  \n",
       "1218010753434820614      7396 2020-01-17 03:22:47  \n",
       "1304875170860015617     23502 2020-09-12 20:10:58  \n",
       "1218159531554897920      9081 2020-01-17 13:13:59  \n",
       "...                       ...                 ...  \n",
       "1319484210101379072      9912 2020-10-23 03:42:05  \n",
       "1319444420861829121      8249 2020-10-23 01:03:58  \n",
       "1319384118849949702     36098 2020-10-22 21:04:21  \n",
       "1319345719829008387     19639 2020-10-22 18:31:46  \n",
       "1319339440867741696     20791 2020-10-22 18:06:49  \n",
       "\n",
       "[54442 rows x 7 columns]"
      ]
     },
     "execution_count": 17,
     "metadata": {},
     "output_type": "execute_result"
    }
   ],
   "source": [
    "df"
   ]
  },
  {
   "cell_type": "code",
   "execution_count": 21,
   "metadata": {},
   "outputs": [],
   "source": [
    "# collection = df['text']"
   ]
  },
  {
   "cell_type": "code",
   "execution_count": 22,
   "metadata": {
    "ExecuteTime": {
     "end_time": "2020-11-13T17:07:10.998575Z",
     "start_time": "2020-11-13T17:07:10.352575Z"
    }
   },
   "outputs": [],
   "source": [
    "# test = []\n",
    "# ind = []\n",
    "\n",
    "# reviews = collection.find()\n",
    "\n",
    "# for index, review in enumerate(reviews[50000:75000]):\n",
    "#     try:\n",
    "#         test.append('{0}'.format(review['reviewText']))\n",
    "#     except KeyError:\n",
    "#         ind.append(index)\n",
    "#         pass"
   ]
  },
  {
   "cell_type": "code",
   "execution_count": 27,
   "metadata": {
    "ExecuteTime": {
     "end_time": "2020-11-13T17:07:11.005577Z",
     "start_time": "2020-11-13T17:07:10.999575Z"
    }
   },
   "outputs": [],
   "source": [
    "# review_data = pd.DataFrame(data=test, columns=(['reviews']))\n",
    "# review_data = df.copy()"
   ]
  },
  {
   "cell_type": "code",
   "execution_count": 25,
   "metadata": {
    "ExecuteTime": {
     "end_time": "2020-11-13T17:07:11.020575Z",
     "start_time": "2020-11-13T17:07:11.006576Z"
    }
   },
   "outputs": [],
   "source": [
    "# review_data"
   ]
  },
  {
   "cell_type": "code",
   "execution_count": 28,
   "metadata": {
    "ExecuteTime": {
     "end_time": "2020-11-13T17:07:11.029577Z",
     "start_time": "2020-11-13T17:07:11.022577Z"
    }
   },
   "outputs": [],
   "source": [
    "# review_data.isna().sum()"
   ]
  },
  {
   "cell_type": "code",
   "execution_count": 11,
   "metadata": {
    "ExecuteTime": {
     "end_time": "2020-11-13T17:07:11.035577Z",
     "start_time": "2020-11-13T17:07:11.031578Z"
    }
   },
   "outputs": [],
   "source": [
    "# reviews = review_data.copy()"
   ]
  },
  {
   "cell_type": "code",
   "execution_count": 58,
   "metadata": {},
   "outputs": [],
   "source": [
    "## JUST TRUMP\n",
    "df = df[df['isRetweet'] == 'f']"
   ]
  },
  {
   "cell_type": "code",
   "execution_count": 59,
   "metadata": {
    "ExecuteTime": {
     "end_time": "2020-11-13T17:07:11.040577Z",
     "start_time": "2020-11-13T17:07:11.036578Z"
    }
   },
   "outputs": [],
   "source": [
    "# reviews = reviews['reviews']\n",
    "reviews = df['text']\n"
   ]
  },
  {
   "cell_type": "code",
   "execution_count": 60,
   "metadata": {
    "ExecuteTime": {
     "end_time": "2020-11-13T17:07:25.088807Z",
     "start_time": "2020-11-13T17:07:11.041577Z"
    }
   },
   "outputs": [
    {
     "data": {
      "application/vnd.jupyter.widget-view+json": {
       "model_id": "39e7fe7cae914235b599cf40b37f36cc",
       "version_major": 2,
       "version_minor": 0
      },
      "text/plain": [
       "HBox(children=(IntProgress(value=0, max=45270), HTML(value='')))"
      ]
     },
     "metadata": {},
     "output_type": "display_data"
    },
    {
     "name": "stdout",
     "output_type": "stream",
     "text": [
      "\n"
     ]
    },
    {
     "data": {
      "text/plain": [
       "<matplotlib.axes._subplots.AxesSubplot at 0x17deb9e3828>"
      ]
     },
     "execution_count": 60,
     "metadata": {},
     "output_type": "execute_result"
    },
    {
     "data": {
      "image/png": "[encoded data removed]",
      "image/svg+xml": [
       "<?xml version=\"1.0\" encoding=\"utf-8\" standalone=\"no\"?>\r\n",
       "<!DOCTYPE svg PUBLIC \"-//W3C//DTD SVG 1.1//EN\"\r\n",
       "  \"http://www.w3.org/Graphics/SVG/1.1/DTD/svg11.dtd\">\r\n",
       "<!-- Created with matplotlib (https://matplotlib.org/) -->\r\n",
       "<svg height=\"252.302224pt\" version=\"1.1\" viewBox=\"0 0 387.382175 252.302224\" width=\"387.382175pt\" xmlns=\"http://www.w3.org/2000/svg\" xmlns:xlink=\"http://www.w3.org/1999/xlink\">\r\n",
       " <defs>\r\n",
       "  <style type=\"text/css\">\r\n",
       "*{stroke-linecap:butt;stroke-linejoin:round;}\r\n",
       "  </style>\r\n",
       " </defs>\r\n",
       " <g id=\"figure_1\">\r\n",
       "  <g id=\"patch_1\">\r\n",
       "   <path d=\"M 0 252.302224 \r\n",
       "L 387.382175 252.302224 \r\n",
       "L 387.382175 0 \r\n",
       "L 0 0 \r\n",
       "z\r\n",
       "\" style=\"fill:none;\"/>\r\n",
       "  </g>\r\n",
       "  <g id=\"axes_1\">\r\n",
       "   <g id=\"patch_2\">\r\n",
       "    <path d=\"M 36.465625 228.424099 \r\n",
       "L 371.265625 228.424099 \r\n",
       "L 371.265625 10.984099 \r\n",
       "L 36.465625 10.984099 \r\n",
       "z\r\n",
       "\" style=\"fill:#ffffff;\"/>\r\n",
       "   </g>\r\n",
       "   <g id=\"patch_3\">\r\n",
       "    <path clip-path=\"url(#p5b1d9f391f)\" d=\"M 58.611896 228.424099 \r\n",
       "L 64.422045 228.424099 \r\n",
       "L 64.422045 147.931942 \r\n",
       "L 58.611896 147.931942 \r\n",
       "z\r\n",
       "\" style=\"fill:#1f77b4;opacity:0.4;\"/>\r\n",
       "   </g>\r\n",
       "   <g id=\"patch_4\">\r\n",
       "    <path clip-path=\"url(#p5b1d9f391f)\" d=\"M 64.422045 228.424099 \r\n",
       "L 70.232194 228.424099 \r\n",
       "L 70.232194 170.730641 \r\n",
       "L 64.422045 170.730641 \r\n",
       "z\r\n",
       "\" style=\"fill:#1f77b4;opacity:0.4;\"/>\r\n",
       "   </g>\r\n",
       "   <g id=\"patch_5\">\r\n",
       "    <path clip-path=\"url(#p5b1d9f391f)\" d=\"M 70.232194 228.424099 \r\n",
       "L 76.042344 228.424099 \r\n",
       "L 76.042344 180.840338 \r\n",
       "L 70.232194 180.840338 \r\n",
       "z\r\n",
       "\" style=\"fill:#1f77b4;opacity:0.4;\"/>\r\n",
       "   </g>\r\n",
       "   <g id=\"patch_6\">\r\n",
       "    <path clip-path=\"url(#p5b1d9f391f)\" d=\"M 76.042344 228.424099 \r\n",
       "L 81.852493 228.424099 \r\n",
       "L 81.852493 169.633695 \r\n",
       "L 76.042344 169.633695 \r\n",
       "z\r\n",
       "\" style=\"fill:#1f77b4;opacity:0.4;\"/>\r\n",
       "   </g>\r\n",
       "   <g id=\"patch_7\">\r\n",
       "    <path clip-path=\"url(#p5b1d9f391f)\" d=\"M 81.852493 228.424099 \r\n",
       "L 87.662642 228.424099 \r\n",
       "L 87.662642 113.363303 \r\n",
       "L 81.852493 113.363303 \r\n",
       "z\r\n",
       "\" style=\"fill:#1f77b4;opacity:0.4;\"/>\r\n",
       "   </g>\r\n",
       "   <g id=\"patch_8\">\r\n",
       "    <path clip-path=\"url(#p5b1d9f391f)\" d=\"M 87.662642 228.424099 \r\n",
       "L 93.472791 228.424099 \r\n",
       "L 93.472791 111.525176 \r\n",
       "L 87.662642 111.525176 \r\n",
       "z\r\n",
       "\" style=\"fill:#1f77b4;opacity:0.4;\"/>\r\n",
       "   </g>\r\n",
       "   <g id=\"patch_9\">\r\n",
       "    <path clip-path=\"url(#p5b1d9f391f)\" d=\"M 93.472791 228.424099 \r\n",
       "L 99.28294 228.424099 \r\n",
       "L 99.28294 81.640796 \r\n",
       "L 93.472791 81.640796 \r\n",
       "z\r\n",
       "\" style=\"fill:#1f77b4;opacity:0.4;\"/>\r\n",
       "   </g>\r\n",
       "   <g id=\"patch_10\">\r\n",
       "    <path clip-path=\"url(#p5b1d9f391f)\" d=\"M 99.28294 228.424099 \r\n",
       "L 105.093089 228.424099 \r\n",
       "L 105.093089 64.119299 \r\n",
       "L 99.28294 64.119299 \r\n",
       "z\r\n",
       "\" style=\"fill:#1f77b4;opacity:0.4;\"/>\r\n",
       "   </g>\r\n",
       "   <g id=\"patch_11\">\r\n",
       "    <path clip-path=\"url(#p5b1d9f391f)\" d=\"M 105.093089 228.424099 \r\n",
       "L 110.903238 228.424099 \r\n",
       "L 110.903238 21.338384 \r\n",
       "L 105.093089 21.338384 \r\n",
       "z\r\n",
       "\" style=\"fill:#1f77b4;opacity:0.4;\"/>\r\n",
       "   </g>\r\n",
       "   <g id=\"patch_12\">\r\n",
       "    <path clip-path=\"url(#p5b1d9f391f)\" d=\"M 110.903238 228.424099 \r\n",
       "L 116.713388 228.424099 \r\n",
       "L 116.713388 130.973742 \r\n",
       "L 110.903238 130.973742 \r\n",
       "z\r\n",
       "\" style=\"fill:#1f77b4;opacity:0.4;\"/>\r\n",
       "   </g>\r\n",
       "   <g id=\"patch_13\">\r\n",
       "    <path clip-path=\"url(#p5b1d9f391f)\" d=\"M 116.713388 228.424099 \r\n",
       "L 122.523537 228.424099 \r\n",
       "L 122.523537 182.381992 \r\n",
       "L 116.713388 182.381992 \r\n",
       "z\r\n",
       "\" style=\"fill:#1f77b4;opacity:0.4;\"/>\r\n",
       "   </g>\r\n",
       "   <g id=\"patch_14\">\r\n",
       "    <path clip-path=\"url(#p5b1d9f391f)\" d=\"M 122.523537 228.424099 \r\n",
       "L 128.333686 228.424099 \r\n",
       "L 128.333686 205.803283 \r\n",
       "L 122.523537 205.803283 \r\n",
       "z\r\n",
       "\" style=\"fill:#1f77b4;opacity:0.4;\"/>\r\n",
       "   </g>\r\n",
       "   <g id=\"patch_15\">\r\n",
       "    <path clip-path=\"url(#p5b1d9f391f)\" d=\"M 128.333686 228.424099 \r\n",
       "L 134.143835 228.424099 \r\n",
       "L 134.143835 208.619767 \r\n",
       "L 128.333686 208.619767 \r\n",
       "z\r\n",
       "\" style=\"fill:#1f77b4;opacity:0.4;\"/>\r\n",
       "   </g>\r\n",
       "   <g id=\"patch_16\">\r\n",
       "    <path clip-path=\"url(#p5b1d9f391f)\" d=\"M 134.143835 228.424099 \r\n",
       "L 139.953984 228.424099 \r\n",
       "L 139.953984 212.592492 \r\n",
       "L 134.143835 212.592492 \r\n",
       "z\r\n",
       "\" style=\"fill:#1f77b4;opacity:0.4;\"/>\r\n",
       "   </g>\r\n",
       "   <g id=\"patch_17\">\r\n",
       "    <path clip-path=\"url(#p5b1d9f391f)\" d=\"M 139.953984 228.424099 \r\n",
       "L 145.764133 228.424099 \r\n",
       "L 145.764133 211.34731 \r\n",
       "L 139.953984 211.34731 \r\n",
       "z\r\n",
       "\" style=\"fill:#1f77b4;opacity:0.4;\"/>\r\n",
       "   </g>\r\n",
       "   <g id=\"patch_18\">\r\n",
       "    <path clip-path=\"url(#p5b1d9f391f)\" d=\"M 145.764133 228.424099 \r\n",
       "L 151.574283 228.424099 \r\n",
       "L 151.574283 207.552468 \r\n",
       "L 145.764133 207.552468 \r\n",
       "z\r\n",
       "\" style=\"fill:#1f77b4;opacity:0.4;\"/>\r\n",
       "   </g>\r\n",
       "   <g id=\"patch_19\">\r\n",
       "    <path clip-path=\"url(#p5b1d9f391f)\" d=\"M 151.574283 228.424099 \r\n",
       "L 157.384432 228.424099 \r\n",
       "L 157.384432 189.171202 \r\n",
       "L 151.574283 189.171202 \r\n",
       "z\r\n",
       "\" style=\"fill:#1f77b4;opacity:0.4;\"/>\r\n",
       "   </g>\r\n",
       "   <g id=\"patch_20\">\r\n",
       "    <path clip-path=\"url(#p5b1d9f391f)\" d=\"M 157.384432 228.424099 \r\n",
       "L 163.194581 228.424099 \r\n",
       "L 163.194581 201.326555 \r\n",
       "L 157.384432 201.326555 \r\n",
       "z\r\n",
       "\" style=\"fill:#1f77b4;opacity:0.4;\"/>\r\n",
       "   </g>\r\n",
       "   <g id=\"patch_21\">\r\n",
       "    <path clip-path=\"url(#p5b1d9f391f)\" d=\"M 163.194581 228.424099 \r\n",
       "L 169.00473 228.424099 \r\n",
       "L 169.00473 208.975533 \r\n",
       "L 163.194581 208.975533 \r\n",
       "z\r\n",
       "\" style=\"fill:#1f77b4;opacity:0.4;\"/>\r\n",
       "   </g>\r\n",
       "   <g id=\"patch_22\">\r\n",
       "    <path clip-path=\"url(#p5b1d9f391f)\" d=\"M 169.00473 228.424099 \r\n",
       "L 174.814879 228.424099 \r\n",
       "L 174.814879 215.379329 \r\n",
       "L 169.00473 215.379329 \r\n",
       "z\r\n",
       "\" style=\"fill:#1f77b4;opacity:0.4;\"/>\r\n",
       "   </g>\r\n",
       "   <g id=\"patch_23\">\r\n",
       "    <path clip-path=\"url(#p5b1d9f391f)\" d=\"M 174.814879 228.424099 \r\n",
       "L 180.625028 228.424099 \r\n",
       "L 180.625028 222.020303 \r\n",
       "L 174.814879 222.020303 \r\n",
       "z\r\n",
       "\" style=\"fill:#1f77b4;opacity:0.4;\"/>\r\n",
       "   </g>\r\n",
       "   <g id=\"patch_24\">\r\n",
       "    <path clip-path=\"url(#p5b1d9f391f)\" d=\"M 180.625028 228.424099 \r\n",
       "L 186.435178 228.424099 \r\n",
       "L 186.435178 226.763855 \r\n",
       "L 180.625028 226.763855 \r\n",
       "z\r\n",
       "\" style=\"fill:#1f77b4;opacity:0.4;\"/>\r\n",
       "   </g>\r\n",
       "   <g id=\"patch_25\">\r\n",
       "    <path clip-path=\"url(#p5b1d9f391f)\" d=\"M 186.435178 228.424099 \r\n",
       "L 192.245327 228.424099 \r\n",
       "L 192.245327 227.831155 \r\n",
       "L 186.435178 227.831155 \r\n",
       "z\r\n",
       "\" style=\"fill:#1f77b4;opacity:0.4;\"/>\r\n",
       "   </g>\r\n",
       "   <g id=\"patch_26\">\r\n",
       "    <path clip-path=\"url(#p5b1d9f391f)\" d=\"M 192.245327 228.424099 \r\n",
       "L 198.055476 228.424099 \r\n",
       "L 198.055476 228.335157 \r\n",
       "L 192.245327 228.335157 \r\n",
       "z\r\n",
       "\" style=\"fill:#1f77b4;opacity:0.4;\"/>\r\n",
       "   </g>\r\n",
       "   <g id=\"patch_27\">\r\n",
       "    <path clip-path=\"url(#p5b1d9f391f)\" d=\"M 198.055476 228.424099 \r\n",
       "L 203.865625 228.424099 \r\n",
       "L 203.865625 228.364804 \r\n",
       "L 198.055476 228.364804 \r\n",
       "z\r\n",
       "\" style=\"fill:#1f77b4;opacity:0.4;\"/>\r\n",
       "   </g>\r\n",
       "   <g id=\"patch_28\">\r\n",
       "    <path clip-path=\"url(#p5b1d9f391f)\" d=\"M 203.865625 228.424099 \r\n",
       "L 209.675774 228.424099 \r\n",
       "L 209.675774 228.394451 \r\n",
       "L 203.865625 228.394451 \r\n",
       "z\r\n",
       "\" style=\"fill:#1f77b4;opacity:0.4;\"/>\r\n",
       "   </g>\r\n",
       "   <g id=\"patch_29\">\r\n",
       "    <path clip-path=\"url(#p5b1d9f391f)\" d=\"M 209.675774 228.424099 \r\n",
       "L 215.485923 228.424099 \r\n",
       "L 215.485923 228.424099 \r\n",
       "L 209.675774 228.424099 \r\n",
       "z\r\n",
       "\" style=\"fill:#1f77b4;opacity:0.4;\"/>\r\n",
       "   </g>\r\n",
       "   <g id=\"patch_30\">\r\n",
       "    <path clip-path=\"url(#p5b1d9f391f)\" d=\"M 215.485923 228.424099 \r\n",
       "L 221.296072 228.424099 \r\n",
       "L 221.296072 228.424099 \r\n",
       "L 215.485923 228.424099 \r\n",
       "z\r\n",
       "\" style=\"fill:#1f77b4;opacity:0.4;\"/>\r\n",
       "   </g>\r\n",
       "   <g id=\"patch_31\">\r\n",
       "    <path clip-path=\"url(#p5b1d9f391f)\" d=\"M 221.296072 228.424099 \r\n",
       "L 227.106222 228.424099 \r\n",
       "L 227.106222 228.424099 \r\n",
       "L 221.296072 228.424099 \r\n",
       "z\r\n",
       "\" style=\"fill:#1f77b4;opacity:0.4;\"/>\r\n",
       "   </g>\r\n",
       "   <g id=\"patch_32\">\r\n",
       "    <path clip-path=\"url(#p5b1d9f391f)\" d=\"M 227.106222 228.424099 \r\n",
       "L 232.916371 228.424099 \r\n",
       "L 232.916371 228.424099 \r\n",
       "L 227.106222 228.424099 \r\n",
       "z\r\n",
       "\" style=\"fill:#1f77b4;opacity:0.4;\"/>\r\n",
       "   </g>\r\n",
       "   <g id=\"patch_33\">\r\n",
       "    <path clip-path=\"url(#p5b1d9f391f)\" d=\"M 232.916371 228.424099 \r\n",
       "L 238.72652 228.424099 \r\n",
       "L 238.72652 228.424099 \r\n",
       "L 232.916371 228.424099 \r\n",
       "z\r\n",
       "\" style=\"fill:#1f77b4;opacity:0.4;\"/>\r\n",
       "   </g>\r\n",
       "   <g id=\"patch_34\">\r\n",
       "    <path clip-path=\"url(#p5b1d9f391f)\" d=\"M 238.72652 228.424099 \r\n",
       "L 244.536669 228.424099 \r\n",
       "L 244.536669 228.424099 \r\n",
       "L 238.72652 228.424099 \r\n",
       "z\r\n",
       "\" style=\"fill:#1f77b4;opacity:0.4;\"/>\r\n",
       "   </g>\r\n",
       "   <g id=\"patch_35\">\r\n",
       "    <path clip-path=\"url(#p5b1d9f391f)\" d=\"M 244.536669 228.424099 \r\n",
       "L 250.346818 228.424099 \r\n",
       "L 250.346818 228.424099 \r\n",
       "L 244.536669 228.424099 \r\n",
       "z\r\n",
       "\" style=\"fill:#1f77b4;opacity:0.4;\"/>\r\n",
       "   </g>\r\n",
       "   <g id=\"patch_36\">\r\n",
       "    <path clip-path=\"url(#p5b1d9f391f)\" d=\"M 250.346818 228.424099 \r\n",
       "L 256.156967 228.424099 \r\n",
       "L 256.156967 228.424099 \r\n",
       "L 250.346818 228.424099 \r\n",
       "z\r\n",
       "\" style=\"fill:#1f77b4;opacity:0.4;\"/>\r\n",
       "   </g>\r\n",
       "   <g id=\"patch_37\">\r\n",
       "    <path clip-path=\"url(#p5b1d9f391f)\" d=\"M 256.156967 228.424099 \r\n",
       "L 261.967117 228.424099 \r\n",
       "L 261.967117 228.424099 \r\n",
       "L 256.156967 228.424099 \r\n",
       "z\r\n",
       "\" style=\"fill:#1f77b4;opacity:0.4;\"/>\r\n",
       "   </g>\r\n",
       "   <g id=\"patch_38\">\r\n",
       "    <path clip-path=\"url(#p5b1d9f391f)\" d=\"M 261.967117 228.424099 \r\n",
       "L 267.777266 228.424099 \r\n",
       "L 267.777266 228.424099 \r\n",
       "L 261.967117 228.424099 \r\n",
       "z\r\n",
       "\" style=\"fill:#1f77b4;opacity:0.4;\"/>\r\n",
       "   </g>\r\n",
       "   <g id=\"patch_39\">\r\n",
       "    <path clip-path=\"url(#p5b1d9f391f)\" d=\"M 267.777266 228.424099 \r\n",
       "L 273.587415 228.424099 \r\n",
       "L 273.587415 228.394451 \r\n",
       "L 267.777266 228.394451 \r\n",
       "z\r\n",
       "\" style=\"fill:#1f77b4;opacity:0.4;\"/>\r\n",
       "   </g>\r\n",
       "   <g id=\"patch_40\">\r\n",
       "    <path clip-path=\"url(#p5b1d9f391f)\" d=\"M 273.587415 228.424099 \r\n",
       "L 279.397564 228.424099 \r\n",
       "L 279.397564 228.424099 \r\n",
       "L 273.587415 228.424099 \r\n",
       "z\r\n",
       "\" style=\"fill:#1f77b4;opacity:0.4;\"/>\r\n",
       "   </g>\r\n",
       "   <g id=\"patch_41\">\r\n",
       "    <path clip-path=\"url(#p5b1d9f391f)\" d=\"M 279.397564 228.424099 \r\n",
       "L 285.207713 228.424099 \r\n",
       "L 285.207713 228.424099 \r\n",
       "L 279.397564 228.424099 \r\n",
       "z\r\n",
       "\" style=\"fill:#1f77b4;opacity:0.4;\"/>\r\n",
       "   </g>\r\n",
       "   <g id=\"patch_42\">\r\n",
       "    <path clip-path=\"url(#p5b1d9f391f)\" d=\"M 285.207713 228.424099 \r\n",
       "L 291.017862 228.424099 \r\n",
       "L 291.017862 228.424099 \r\n",
       "L 285.207713 228.424099 \r\n",
       "z\r\n",
       "\" style=\"fill:#1f77b4;opacity:0.4;\"/>\r\n",
       "   </g>\r\n",
       "   <g id=\"patch_43\">\r\n",
       "    <path clip-path=\"url(#p5b1d9f391f)\" d=\"M 291.017862 228.424099 \r\n",
       "L 296.828012 228.424099 \r\n",
       "L 296.828012 228.424099 \r\n",
       "L 291.017862 228.424099 \r\n",
       "z\r\n",
       "\" style=\"fill:#1f77b4;opacity:0.4;\"/>\r\n",
       "   </g>\r\n",
       "   <g id=\"patch_44\">\r\n",
       "    <path clip-path=\"url(#p5b1d9f391f)\" d=\"M 296.828012 228.424099 \r\n",
       "L 302.638161 228.424099 \r\n",
       "L 302.638161 228.424099 \r\n",
       "L 296.828012 228.424099 \r\n",
       "z\r\n",
       "\" style=\"fill:#1f77b4;opacity:0.4;\"/>\r\n",
       "   </g>\r\n",
       "   <g id=\"patch_45\">\r\n",
       "    <path clip-path=\"url(#p5b1d9f391f)\" d=\"M 302.638161 228.424099 \r\n",
       "L 308.44831 228.424099 \r\n",
       "L 308.44831 228.424099 \r\n",
       "L 302.638161 228.424099 \r\n",
       "z\r\n",
       "\" style=\"fill:#1f77b4;opacity:0.4;\"/>\r\n",
       "   </g>\r\n",
       "   <g id=\"patch_46\">\r\n",
       "    <path clip-path=\"url(#p5b1d9f391f)\" d=\"M 308.44831 228.424099 \r\n",
       "L 314.258459 228.424099 \r\n",
       "L 314.258459 228.424099 \r\n",
       "L 308.44831 228.424099 \r\n",
       "z\r\n",
       "\" style=\"fill:#1f77b4;opacity:0.4;\"/>\r\n",
       "   </g>\r\n",
       "   <g id=\"patch_47\">\r\n",
       "    <path clip-path=\"url(#p5b1d9f391f)\" d=\"M 314.258459 228.424099 \r\n",
       "L 320.068608 228.424099 \r\n",
       "L 320.068608 228.424099 \r\n",
       "L 314.258459 228.424099 \r\n",
       "z\r\n",
       "\" style=\"fill:#1f77b4;opacity:0.4;\"/>\r\n",
       "   </g>\r\n",
       "   <g id=\"patch_48\">\r\n",
       "    <path clip-path=\"url(#p5b1d9f391f)\" d=\"M 320.068608 228.424099 \r\n",
       "L 325.878757 228.424099 \r\n",
       "L 325.878757 228.424099 \r\n",
       "L 320.068608 228.424099 \r\n",
       "z\r\n",
       "\" style=\"fill:#1f77b4;opacity:0.4;\"/>\r\n",
       "   </g>\r\n",
       "   <g id=\"patch_49\">\r\n",
       "    <path clip-path=\"url(#p5b1d9f391f)\" d=\"M 325.878757 228.424099 \r\n",
       "L 331.688906 228.424099 \r\n",
       "L 331.688906 228.424099 \r\n",
       "L 325.878757 228.424099 \r\n",
       "z\r\n",
       "\" style=\"fill:#1f77b4;opacity:0.4;\"/>\r\n",
       "   </g>\r\n",
       "   <g id=\"patch_50\">\r\n",
       "    <path clip-path=\"url(#p5b1d9f391f)\" d=\"M 331.688906 228.424099 \r\n",
       "L 337.499056 228.424099 \r\n",
       "L 337.499056 228.424099 \r\n",
       "L 331.688906 228.424099 \r\n",
       "z\r\n",
       "\" style=\"fill:#1f77b4;opacity:0.4;\"/>\r\n",
       "   </g>\r\n",
       "   <g id=\"patch_51\">\r\n",
       "    <path clip-path=\"url(#p5b1d9f391f)\" d=\"M 337.499056 228.424099 \r\n",
       "L 343.309205 228.424099 \r\n",
       "L 343.309205 228.424099 \r\n",
       "L 337.499056 228.424099 \r\n",
       "z\r\n",
       "\" style=\"fill:#1f77b4;opacity:0.4;\"/>\r\n",
       "   </g>\r\n",
       "   <g id=\"patch_52\">\r\n",
       "    <path clip-path=\"url(#p5b1d9f391f)\" d=\"M 343.309205 228.424099 \r\n",
       "L 349.119354 228.424099 \r\n",
       "L 349.119354 228.394451 \r\n",
       "L 343.309205 228.394451 \r\n",
       "z\r\n",
       "\" style=\"fill:#1f77b4;opacity:0.4;\"/>\r\n",
       "   </g>\r\n",
       "   <g id=\"matplotlib.axis_1\">\r\n",
       "    <g id=\"xtick_1\">\r\n",
       "     <g id=\"line2d_1\">\r\n",
       "      <defs>\r\n",
       "       <path d=\"M 0 0 \r\n",
       "L 0 3.5 \r\n",
       "\" id=\"mf14c2ea7c2\" style=\"stroke:#000000;stroke-width:0.8;\"/>\r\n",
       "      </defs>\r\n",
       "      <g>\r\n",
       "       <use style=\"stroke:#000000;stroke-width:0.8;\" x=\"56.81864\" xlink:href=\"#mf14c2ea7c2\" y=\"228.424099\"/>\r\n",
       "      </g>\r\n",
       "     </g>\r\n",
       "     <g id=\"text_1\">\r\n",
       "      <!-- 0 -->\r\n",
       "      <defs>\r\n",
       "       <path d=\"M 31.78125 66.40625 \r\n",
       "Q 24.171875 66.40625 20.328125 58.90625 \r\n",
       "Q 16.5 51.421875 16.5 36.375 \r\n",
       "Q 16.5 21.390625 20.328125 13.890625 \r\n",
       "Q 24.171875 6.390625 31.78125 6.390625 \r\n",
       "Q 39.453125 6.390625 43.28125 13.890625 \r\n",
       "Q 47.125 21.390625 47.125 36.375 \r\n",
       "Q 47.125 51.421875 43.28125 58.90625 \r\n",
       "Q 39.453125 66.40625 31.78125 66.40625 \r\n",
       "z\r\n",
       "M 31.78125 74.21875 \r\n",
       "Q 44.046875 74.21875 50.515625 64.515625 \r\n",
       "Q 56.984375 54.828125 56.984375 36.375 \r\n",
       "Q 56.984375 17.96875 50.515625 8.265625 \r\n",
       "Q 44.046875 -1.421875 31.78125 -1.421875 \r\n",
       "Q 19.53125 -1.421875 13.0625 8.265625 \r\n",
       "Q 6.59375 17.96875 6.59375 36.375 \r\n",
       "Q 6.59375 54.828125 13.0625 64.515625 \r\n",
       "Q 19.53125 74.21875 31.78125 74.21875 \r\n",
       "z\r\n",
       "\" id=\"DejaVuSans-48\"/>\r\n",
       "      </defs>\r\n",
       "      <g transform=\"translate(53.63739 243.022536)scale(0.1 -0.1)\">\r\n",
       "       <use xlink:href=\"#DejaVuSans-48\"/>\r\n",
       "      </g>\r\n",
       "     </g>\r\n",
       "    </g>\r\n",
       "    <g id=\"xtick_2\">\r\n",
       "     <g id=\"line2d_2\">\r\n",
       "      <g>\r\n",
       "       <use style=\"stroke:#000000;stroke-width:0.8;\" x=\"101.650038\" xlink:href=\"#mf14c2ea7c2\" y=\"228.424099\"/>\r\n",
       "      </g>\r\n",
       "     </g>\r\n",
       "     <g id=\"text_2\">\r\n",
       "      <!-- 25 -->\r\n",
       "      <defs>\r\n",
       "       <path d=\"M 19.1875 8.296875 \r\n",
       "L 53.609375 8.296875 \r\n",
       "L 53.609375 0 \r\n",
       "L 7.328125 0 \r\n",
       "L 7.328125 8.296875 \r\n",
       "Q 12.9375 14.109375 22.625 23.890625 \r\n",
       "Q 32.328125 33.6875 34.8125 36.53125 \r\n",
       "Q 39.546875 41.84375 41.421875 45.53125 \r\n",
       "Q 43.3125 49.21875 43.3125 52.78125 \r\n",
       "Q 43.3125 58.59375 39.234375 62.25 \r\n",
       "Q 35.15625 65.921875 28.609375 65.921875 \r\n",
       "Q 23.96875 65.921875 18.8125 64.3125 \r\n",
       "Q 13.671875 62.703125 7.8125 59.421875 \r\n",
       "L 7.8125 69.390625 \r\n",
       "Q 13.765625 71.78125 18.9375 73 \r\n",
       "Q 24.125 74.21875 28.421875 74.21875 \r\n",
       "Q 39.75 74.21875 46.484375 68.546875 \r\n",
       "Q 53.21875 62.890625 53.21875 53.421875 \r\n",
       "Q 53.21875 48.921875 51.53125 44.890625 \r\n",
       "Q 49.859375 40.875 45.40625 35.40625 \r\n",
       "Q 44.1875 33.984375 37.640625 27.21875 \r\n",
       "Q 31.109375 20.453125 19.1875 8.296875 \r\n",
       "z\r\n",
       "\" id=\"DejaVuSans-50\"/>\r\n",
       "       <path d=\"M 10.796875 72.90625 \r\n",
       "L 49.515625 72.90625 \r\n",
       "L 49.515625 64.59375 \r\n",
       "L 19.828125 64.59375 \r\n",
       "L 19.828125 46.734375 \r\n",
       "Q 21.96875 47.46875 24.109375 47.828125 \r\n",
       "Q 26.265625 48.1875 28.421875 48.1875 \r\n",
       "Q 40.625 48.1875 47.75 41.5 \r\n",
       "Q 54.890625 34.8125 54.890625 23.390625 \r\n",
       "Q 54.890625 11.625 47.5625 5.09375 \r\n",
       "Q 40.234375 -1.421875 26.90625 -1.421875 \r\n",
       "Q 22.3125 -1.421875 17.546875 -0.640625 \r\n",
       "Q 12.796875 0.140625 7.71875 1.703125 \r\n",
       "L 7.71875 11.625 \r\n",
       "Q 12.109375 9.234375 16.796875 8.0625 \r\n",
       "Q 21.484375 6.890625 26.703125 6.890625 \r\n",
       "Q 35.15625 6.890625 40.078125 11.328125 \r\n",
       "Q 45.015625 15.765625 45.015625 23.390625 \r\n",
       "Q 45.015625 31 40.078125 35.4375 \r\n",
       "Q 35.15625 39.890625 26.703125 39.890625 \r\n",
       "Q 22.75 39.890625 18.8125 39.015625 \r\n",
       "Q 14.890625 38.140625 10.796875 36.28125 \r\n",
       "z\r\n",
       "\" id=\"DejaVuSans-53\"/>\r\n",
       "      </defs>\r\n",
       "      <g transform=\"translate(95.287538 243.022536)scale(0.1 -0.1)\">\r\n",
       "       <use xlink:href=\"#DejaVuSans-50\"/>\r\n",
       "       <use x=\"63.623047\" xlink:href=\"#DejaVuSans-53\"/>\r\n",
       "      </g>\r\n",
       "     </g>\r\n",
       "    </g>\r\n",
       "    <g id=\"xtick_3\">\r\n",
       "     <g id=\"line2d_3\">\r\n",
       "      <g>\r\n",
       "       <use style=\"stroke:#000000;stroke-width:0.8;\" x=\"146.481436\" xlink:href=\"#mf14c2ea7c2\" y=\"228.424099\"/>\r\n",
       "      </g>\r\n",
       "     </g>\r\n",
       "     <g id=\"text_3\">\r\n",
       "      <!-- 50 -->\r\n",
       "      <g transform=\"translate(140.118936 243.022536)scale(0.1 -0.1)\">\r\n",
       "       <use xlink:href=\"#DejaVuSans-53\"/>\r\n",
       "       <use x=\"63.623047\" xlink:href=\"#DejaVuSans-48\"/>\r\n",
       "      </g>\r\n",
       "     </g>\r\n",
       "    </g>\r\n",
       "    <g id=\"xtick_4\">\r\n",
       "     <g id=\"line2d_4\">\r\n",
       "      <g>\r\n",
       "       <use style=\"stroke:#000000;stroke-width:0.8;\" x=\"191.312834\" xlink:href=\"#mf14c2ea7c2\" y=\"228.424099\"/>\r\n",
       "      </g>\r\n",
       "     </g>\r\n",
       "     <g id=\"text_4\">\r\n",
       "      <!-- 75 -->\r\n",
       "      <defs>\r\n",
       "       <path d=\"M 8.203125 72.90625 \r\n",
       "L 55.078125 72.90625 \r\n",
       "L 55.078125 68.703125 \r\n",
       "L 28.609375 0 \r\n",
       "L 18.3125 0 \r\n",
       "L 43.21875 64.59375 \r\n",
       "L 8.203125 64.59375 \r\n",
       "z\r\n",
       "\" id=\"DejaVuSans-55\"/>\r\n",
       "      </defs>\r\n",
       "      <g transform=\"translate(184.950334 243.022536)scale(0.1 -0.1)\">\r\n",
       "       <use xlink:href=\"#DejaVuSans-55\"/>\r\n",
       "       <use x=\"63.623047\" xlink:href=\"#DejaVuSans-53\"/>\r\n",
       "      </g>\r\n",
       "     </g>\r\n",
       "    </g>\r\n",
       "    <g id=\"xtick_5\">\r\n",
       "     <g id=\"line2d_5\">\r\n",
       "      <g>\r\n",
       "       <use style=\"stroke:#000000;stroke-width:0.8;\" x=\"236.144231\" xlink:href=\"#mf14c2ea7c2\" y=\"228.424099\"/>\r\n",
       "      </g>\r\n",
       "     </g>\r\n",
       "     <g id=\"text_5\">\r\n",
       "      <!-- 100 -->\r\n",
       "      <defs>\r\n",
       "       <path d=\"M 12.40625 8.296875 \r\n",
       "L 28.515625 8.296875 \r\n",
       "L 28.515625 63.921875 \r\n",
       "L 10.984375 60.40625 \r\n",
       "L 10.984375 69.390625 \r\n",
       "L 28.421875 72.90625 \r\n",
       "L 38.28125 72.90625 \r\n",
       "L 38.28125 8.296875 \r\n",
       "L 54.390625 8.296875 \r\n",
       "L 54.390625 0 \r\n",
       "L 12.40625 0 \r\n",
       "z\r\n",
       "\" id=\"DejaVuSans-49\"/>\r\n",
       "      </defs>\r\n",
       "      <g transform=\"translate(226.600481 243.022536)scale(0.1 -0.1)\">\r\n",
       "       <use xlink:href=\"#DejaVuSans-49\"/>\r\n",
       "       <use x=\"63.623047\" xlink:href=\"#DejaVuSans-48\"/>\r\n",
       "       <use x=\"127.246094\" xlink:href=\"#DejaVuSans-48\"/>\r\n",
       "      </g>\r\n",
       "     </g>\r\n",
       "    </g>\r\n",
       "    <g id=\"xtick_6\">\r\n",
       "     <g id=\"line2d_6\">\r\n",
       "      <g>\r\n",
       "       <use style=\"stroke:#000000;stroke-width:0.8;\" x=\"280.975629\" xlink:href=\"#mf14c2ea7c2\" y=\"228.424099\"/>\r\n",
       "      </g>\r\n",
       "     </g>\r\n",
       "     <g id=\"text_6\">\r\n",
       "      <!-- 125 -->\r\n",
       "      <g transform=\"translate(271.431879 243.022536)scale(0.1 -0.1)\">\r\n",
       "       <use xlink:href=\"#DejaVuSans-49\"/>\r\n",
       "       <use x=\"63.623047\" xlink:href=\"#DejaVuSans-50\"/>\r\n",
       "       <use x=\"127.246094\" xlink:href=\"#DejaVuSans-53\"/>\r\n",
       "      </g>\r\n",
       "     </g>\r\n",
       "    </g>\r\n",
       "    <g id=\"xtick_7\">\r\n",
       "     <g id=\"line2d_7\">\r\n",
       "      <g>\r\n",
       "       <use style=\"stroke:#000000;stroke-width:0.8;\" x=\"325.807027\" xlink:href=\"#mf14c2ea7c2\" y=\"228.424099\"/>\r\n",
       "      </g>\r\n",
       "     </g>\r\n",
       "     <g id=\"text_7\">\r\n",
       "      <!-- 150 -->\r\n",
       "      <g transform=\"translate(316.263277 243.022536)scale(0.1 -0.1)\">\r\n",
       "       <use xlink:href=\"#DejaVuSans-49\"/>\r\n",
       "       <use x=\"63.623047\" xlink:href=\"#DejaVuSans-53\"/>\r\n",
       "       <use x=\"127.246094\" xlink:href=\"#DejaVuSans-48\"/>\r\n",
       "      </g>\r\n",
       "     </g>\r\n",
       "    </g>\r\n",
       "    <g id=\"xtick_8\">\r\n",
       "     <g id=\"line2d_8\">\r\n",
       "      <g>\r\n",
       "       <use style=\"stroke:#000000;stroke-width:0.8;\" x=\"370.638425\" xlink:href=\"#mf14c2ea7c2\" y=\"228.424099\"/>\r\n",
       "      </g>\r\n",
       "     </g>\r\n",
       "     <g id=\"text_8\">\r\n",
       "      <!-- 175 -->\r\n",
       "      <g transform=\"translate(361.094675 243.022536)scale(0.1 -0.1)\">\r\n",
       "       <use xlink:href=\"#DejaVuSans-49\"/>\r\n",
       "       <use x=\"63.623047\" xlink:href=\"#DejaVuSans-55\"/>\r\n",
       "       <use x=\"127.246094\" xlink:href=\"#DejaVuSans-53\"/>\r\n",
       "      </g>\r\n",
       "     </g>\r\n",
       "    </g>\r\n",
       "   </g>\r\n",
       "   <g id=\"matplotlib.axis_2\">\r\n",
       "    <g id=\"ytick_1\">\r\n",
       "     <g id=\"line2d_9\">\r\n",
       "      <defs>\r\n",
       "       <path d=\"M 0 0 \r\n",
       "L -3.5 0 \r\n",
       "\" id=\"m2d64f4a151\" style=\"stroke:#000000;stroke-width:0.8;\"/>\r\n",
       "      </defs>\r\n",
       "      <g>\r\n",
       "       <use style=\"stroke:#000000;stroke-width:0.8;\" x=\"36.465625\" xlink:href=\"#m2d64f4a151\" y=\"228.424099\"/>\r\n",
       "      </g>\r\n",
       "     </g>\r\n",
       "     <g id=\"text_9\">\r\n",
       "      <!-- 0.00 -->\r\n",
       "      <defs>\r\n",
       "       <path d=\"M 10.6875 12.40625 \r\n",
       "L 21 12.40625 \r\n",
       "L 21 0 \r\n",
       "L 10.6875 0 \r\n",
       "z\r\n",
       "\" id=\"DejaVuSans-46\"/>\r\n",
       "      </defs>\r\n",
       "      <g transform=\"translate(7.2 232.223317)scale(0.1 -0.1)\">\r\n",
       "       <use xlink:href=\"#DejaVuSans-48\"/>\r\n",
       "       <use x=\"63.623047\" xlink:href=\"#DejaVuSans-46\"/>\r\n",
       "       <use x=\"95.410156\" xlink:href=\"#DejaVuSans-48\"/>\r\n",
       "       <use x=\"159.033203\" xlink:href=\"#DejaVuSans-48\"/>\r\n",
       "      </g>\r\n",
       "     </g>\r\n",
       "    </g>\r\n",
       "    <g id=\"ytick_2\">\r\n",
       "     <g id=\"line2d_10\">\r\n",
       "      <g>\r\n",
       "       <use style=\"stroke:#000000;stroke-width:0.8;\" x=\"36.465625\" xlink:href=\"#m2d64f4a151\" y=\"184.939123\"/>\r\n",
       "      </g>\r\n",
       "     </g>\r\n",
       "     <g id=\"text_10\">\r\n",
       "      <!-- 0.01 -->\r\n",
       "      <g transform=\"translate(7.2 188.738341)scale(0.1 -0.1)\">\r\n",
       "       <use xlink:href=\"#DejaVuSans-48\"/>\r\n",
       "       <use x=\"63.623047\" xlink:href=\"#DejaVuSans-46\"/>\r\n",
       "       <use x=\"95.410156\" xlink:href=\"#DejaVuSans-48\"/>\r\n",
       "       <use x=\"159.033203\" xlink:href=\"#DejaVuSans-49\"/>\r\n",
       "      </g>\r\n",
       "     </g>\r\n",
       "    </g>\r\n",
       "    <g id=\"ytick_3\">\r\n",
       "     <g id=\"line2d_11\">\r\n",
       "      <g>\r\n",
       "       <use style=\"stroke:#000000;stroke-width:0.8;\" x=\"36.465625\" xlink:href=\"#m2d64f4a151\" y=\"141.454147\"/>\r\n",
       "      </g>\r\n",
       "     </g>\r\n",
       "     <g id=\"text_11\">\r\n",
       "      <!-- 0.02 -->\r\n",
       "      <g transform=\"translate(7.2 145.253365)scale(0.1 -0.1)\">\r\n",
       "       <use xlink:href=\"#DejaVuSans-48\"/>\r\n",
       "       <use x=\"63.623047\" xlink:href=\"#DejaVuSans-46\"/>\r\n",
       "       <use x=\"95.410156\" xlink:href=\"#DejaVuSans-48\"/>\r\n",
       "       <use x=\"159.033203\" xlink:href=\"#DejaVuSans-50\"/>\r\n",
       "      </g>\r\n",
       "     </g>\r\n",
       "    </g>\r\n",
       "    <g id=\"ytick_4\">\r\n",
       "     <g id=\"line2d_12\">\r\n",
       "      <g>\r\n",
       "       <use style=\"stroke:#000000;stroke-width:0.8;\" x=\"36.465625\" xlink:href=\"#m2d64f4a151\" y=\"97.969171\"/>\r\n",
       "      </g>\r\n",
       "     </g>\r\n",
       "     <g id=\"text_12\">\r\n",
       "      <!-- 0.03 -->\r\n",
       "      <defs>\r\n",
       "       <path d=\"M 40.578125 39.3125 \r\n",
       "Q 47.65625 37.796875 51.625 33 \r\n",
       "Q 55.609375 28.21875 55.609375 21.1875 \r\n",
       "Q 55.609375 10.40625 48.1875 4.484375 \r\n",
       "Q 40.765625 -1.421875 27.09375 -1.421875 \r\n",
       "Q 22.515625 -1.421875 17.65625 -0.515625 \r\n",
       "Q 12.796875 0.390625 7.625 2.203125 \r\n",
       "L 7.625 11.71875 \r\n",
       "Q 11.71875 9.328125 16.59375 8.109375 \r\n",
       "Q 21.484375 6.890625 26.8125 6.890625 \r\n",
       "Q 36.078125 6.890625 40.9375 10.546875 \r\n",
       "Q 45.796875 14.203125 45.796875 21.1875 \r\n",
       "Q 45.796875 27.640625 41.28125 31.265625 \r\n",
       "Q 36.765625 34.90625 28.71875 34.90625 \r\n",
       "L 20.21875 34.90625 \r\n",
       "L 20.21875 43.015625 \r\n",
       "L 29.109375 43.015625 \r\n",
       "Q 36.375 43.015625 40.234375 45.921875 \r\n",
       "Q 44.09375 48.828125 44.09375 54.296875 \r\n",
       "Q 44.09375 59.90625 40.109375 62.90625 \r\n",
       "Q 36.140625 65.921875 28.71875 65.921875 \r\n",
       "Q 24.65625 65.921875 20.015625 65.03125 \r\n",
       "Q 15.375 64.15625 9.8125 62.3125 \r\n",
       "L 9.8125 71.09375 \r\n",
       "Q 15.4375 72.65625 20.34375 73.4375 \r\n",
       "Q 25.25 74.21875 29.59375 74.21875 \r\n",
       "Q 40.828125 74.21875 47.359375 69.109375 \r\n",
       "Q 53.90625 64.015625 53.90625 55.328125 \r\n",
       "Q 53.90625 49.265625 50.4375 45.09375 \r\n",
       "Q 46.96875 40.921875 40.578125 39.3125 \r\n",
       "z\r\n",
       "\" id=\"DejaVuSans-51\"/>\r\n",
       "      </defs>\r\n",
       "      <g transform=\"translate(7.2 101.768389)scale(0.1 -0.1)\">\r\n",
       "       <use xlink:href=\"#DejaVuSans-48\"/>\r\n",
       "       <use x=\"63.623047\" xlink:href=\"#DejaVuSans-46\"/>\r\n",
       "       <use x=\"95.410156\" xlink:href=\"#DejaVuSans-48\"/>\r\n",
       "       <use x=\"159.033203\" xlink:href=\"#DejaVuSans-51\"/>\r\n",
       "      </g>\r\n",
       "     </g>\r\n",
       "    </g>\r\n",
       "    <g id=\"ytick_5\">\r\n",
       "     <g id=\"line2d_13\">\r\n",
       "      <g>\r\n",
       "       <use style=\"stroke:#000000;stroke-width:0.8;\" x=\"36.465625\" xlink:href=\"#m2d64f4a151\" y=\"54.484195\"/>\r\n",
       "      </g>\r\n",
       "     </g>\r\n",
       "     <g id=\"text_13\">\r\n",
       "      <!-- 0.04 -->\r\n",
       "      <defs>\r\n",
       "       <path d=\"M 37.796875 64.3125 \r\n",
       "L 12.890625 25.390625 \r\n",
       "L 37.796875 25.390625 \r\n",
       "z\r\n",
       "M 35.203125 72.90625 \r\n",
       "L 47.609375 72.90625 \r\n",
       "L 47.609375 25.390625 \r\n",
       "L 58.015625 25.390625 \r\n",
       "L 58.015625 17.1875 \r\n",
       "L 47.609375 17.1875 \r\n",
       "L 47.609375 0 \r\n",
       "L 37.796875 0 \r\n",
       "L 37.796875 17.1875 \r\n",
       "L 4.890625 17.1875 \r\n",
       "L 4.890625 26.703125 \r\n",
       "z\r\n",
       "\" id=\"DejaVuSans-52\"/>\r\n",
       "      </defs>\r\n",
       "      <g transform=\"translate(7.2 58.283413)scale(0.1 -0.1)\">\r\n",
       "       <use xlink:href=\"#DejaVuSans-48\"/>\r\n",
       "       <use x=\"63.623047\" xlink:href=\"#DejaVuSans-46\"/>\r\n",
       "       <use x=\"95.410156\" xlink:href=\"#DejaVuSans-48\"/>\r\n",
       "       <use x=\"159.033203\" xlink:href=\"#DejaVuSans-52\"/>\r\n",
       "      </g>\r\n",
       "     </g>\r\n",
       "    </g>\r\n",
       "    <g id=\"ytick_6\">\r\n",
       "     <g id=\"line2d_14\">\r\n",
       "      <g>\r\n",
       "       <use style=\"stroke:#000000;stroke-width:0.8;\" x=\"36.465625\" xlink:href=\"#m2d64f4a151\" y=\"10.999219\"/>\r\n",
       "      </g>\r\n",
       "     </g>\r\n",
       "     <g id=\"text_14\">\r\n",
       "      <!-- 0.05 -->\r\n",
       "      <g transform=\"translate(7.2 14.798437)scale(0.1 -0.1)\">\r\n",
       "       <use xlink:href=\"#DejaVuSans-48\"/>\r\n",
       "       <use x=\"63.623047\" xlink:href=\"#DejaVuSans-46\"/>\r\n",
       "       <use x=\"95.410156\" xlink:href=\"#DejaVuSans-48\"/>\r\n",
       "       <use x=\"159.033203\" xlink:href=\"#DejaVuSans-53\"/>\r\n",
       "      </g>\r\n",
       "     </g>\r\n",
       "    </g>\r\n",
       "   </g>\r\n",
       "   <g id=\"line2d_15\">\r\n",
       "    <path clip-path=\"url(#p5b1d9f391f)\" d=\"M 51.683807 227.989434 \r\n",
       "L 54.080371 224.292131 \r\n",
       "L 56.476935 207.875433 \r\n",
       "L 58.873499 184.610838 \r\n",
       "L 61.270063 174.417339 \r\n",
       "L 63.666627 160.819478 \r\n",
       "L 66.063191 159.582537 \r\n",
       "L 68.459755 169.683658 \r\n",
       "L 70.856319 175.034966 \r\n",
       "L 73.252883 175.621601 \r\n",
       "L 75.649447 173.183909 \r\n",
       "L 78.046012 164.986408 \r\n",
       "L 82.83914 144.726317 \r\n",
       "L 85.235704 130.883993 \r\n",
       "L 87.632268 119.119475 \r\n",
       "L 90.028832 108.191075 \r\n",
       "L 92.425396 90.205431 \r\n",
       "L 94.82196 76.808413 \r\n",
       "L 97.218524 68.560652 \r\n",
       "L 99.615088 56.360808 \r\n",
       "L 102.011652 51.964851 \r\n",
       "L 104.408216 52.427104 \r\n",
       "L 106.80478 53.185255 \r\n",
       "L 109.201344 69.880219 \r\n",
       "L 111.597908 95.972812 \r\n",
       "L 113.994473 120.341849 \r\n",
       "L 116.391037 147.116548 \r\n",
       "L 118.787601 170.91099 \r\n",
       "L 121.184165 186.900411 \r\n",
       "L 123.580729 198.412134 \r\n",
       "L 125.977293 205.924255 \r\n",
       "L 128.373857 209.573517 \r\n",
       "L 130.770421 212.099331 \r\n",
       "L 133.166985 212.787207 \r\n",
       "L 135.563549 211.692904 \r\n",
       "L 137.960113 211.681411 \r\n",
       "L 140.356677 211.53298 \r\n",
       "L 142.753241 209.606941 \r\n",
       "L 145.149805 208.091778 \r\n",
       "L 147.546369 206.057851 \r\n",
       "L 149.942934 202.411776 \r\n",
       "L 152.339498 199.08009 \r\n",
       "L 154.736062 196.997899 \r\n",
       "L 157.132626 196.409464 \r\n",
       "L 159.52919 198.536598 \r\n",
       "L 161.925754 201.284315 \r\n",
       "L 164.322318 203.776684 \r\n",
       "L 166.718882 208.105983 \r\n",
       "L 169.115446 211.87262 \r\n",
       "L 171.51201 214.340678 \r\n",
       "L 176.305138 221.393755 \r\n",
       "L 178.701702 223.745686 \r\n",
       "L 181.098266 225.429791 \r\n",
       "L 183.49483 226.411233 \r\n",
       "L 188.287959 227.53575 \r\n",
       "L 190.684523 227.923979 \r\n",
       "L 195.477651 228.325922 \r\n",
       "L 205.063907 228.390071 \r\n",
       "L 231.426112 228.424099 \r\n",
       "L 356.047443 228.424099 \r\n",
       "L 356.047443 228.424099 \r\n",
       "\" style=\"fill:none;stroke:#1f77b4;stroke-linecap:square;stroke-width:1.5;\"/>\r\n",
       "   </g>\r\n",
       "   <g id=\"patch_53\">\r\n",
       "    <path d=\"M 36.465625 228.424099 \r\n",
       "L 36.465625 10.984099 \r\n",
       "\" style=\"fill:none;stroke:#000000;stroke-linecap:square;stroke-linejoin:miter;stroke-width:0.8;\"/>\r\n",
       "   </g>\r\n",
       "   <g id=\"patch_54\">\r\n",
       "    <path d=\"M 371.265625 228.424099 \r\n",
       "L 371.265625 10.984099 \r\n",
       "\" style=\"fill:none;stroke:#000000;stroke-linecap:square;stroke-linejoin:miter;stroke-width:0.8;\"/>\r\n",
       "   </g>\r\n",
       "   <g id=\"patch_55\">\r\n",
       "    <path d=\"M 36.465625 228.424099 \r\n",
       "L 371.265625 228.424099 \r\n",
       "\" style=\"fill:none;stroke:#000000;stroke-linecap:square;stroke-linejoin:miter;stroke-width:0.8;\"/>\r\n",
       "   </g>\r\n",
       "   <g id=\"patch_56\">\r\n",
       "    <path d=\"M 36.465625 10.984099 \r\n",
       "L 371.265625 10.984099 \r\n",
       "\" style=\"fill:none;stroke:#000000;stroke-linecap:square;stroke-linejoin:miter;stroke-width:0.8;\"/>\r\n",
       "   </g>\r\n",
       "  </g>\r\n",
       " </g>\r\n",
       " <defs>\r\n",
       "  <clipPath id=\"p5b1d9f391f\">\r\n",
       "   <rect height=\"217.44\" width=\"334.8\" x=\"36.465625\" y=\"10.984099\"/>\r\n",
       "  </clipPath>\r\n",
       " </defs>\r\n",
       "</svg>\r\n"
      ],
      "text/plain": [
       "<Figure size 432x288 with 1 Axes>"
      ]
     },
     "metadata": {
      "needs_background": "light"
     },
     "output_type": "display_data"
    }
   ],
   "source": [
    "import nltk\n",
    "tokenizer = nltk.TweetTokenizer()\n",
    "reviewlen = []\n",
    "for review in tqdm(reviews):\n",
    "\n",
    "    tokens = tokenizer.tokenize(review)#nltk.word_tokenize(review)\n",
    "    reviewlen.append(len(tokens))\n",
    "    \n",
    "reviewlen = np.array(reviewlen)\n",
    "\n",
    "sns.distplot(reviewlen)"
   ]
  },
  {
   "cell_type": "code",
   "execution_count": 61,
   "metadata": {
    "ExecuteTime": {
     "end_time": "2020-11-13T17:07:25.092805Z",
     "start_time": "2020-11-13T17:07:25.089808Z"
    }
   },
   "outputs": [
    {
     "data": {
      "text/plain": [
       "0.0"
      ]
     },
     "execution_count": 61,
     "metadata": {},
     "output_type": "execute_result"
    }
   ],
   "source": [
    "len(reviewlen[reviewlen > 768])/len(reviewlen)*100"
   ]
  },
  {
   "cell_type": "code",
   "execution_count": 62,
   "metadata": {
    "ExecuteTime": {
     "end_time": "2020-11-13T17:07:25.098806Z",
     "start_time": "2020-11-13T17:07:25.093806Z"
    }
   },
   "outputs": [
    {
     "name": "stdout",
     "output_type": "stream",
     "text": [
      "Average review length: 25.531 words.\n"
     ]
    }
   ],
   "source": [
    "print('Average review length: {} words.'.format(round(np.average(reviewlen), 3)))"
   ]
  },
  {
   "cell_type": "code",
   "execution_count": 63,
   "metadata": {
    "ExecuteTime": {
     "end_time": "2020-11-13T17:07:25.104806Z",
     "start_time": "2020-11-13T17:07:25.099805Z"
    }
   },
   "outputs": [
    {
     "name": "stdout",
     "output_type": "stream",
     "text": [
      "Max review length: 163 words.\n"
     ]
    }
   ],
   "source": [
    "print('Max review length: {} words.'.format(np.max(reviewlen)))"
   ]
  },
  {
   "cell_type": "code",
   "execution_count": 64,
   "metadata": {
    "ExecuteTime": {
     "end_time": "2020-11-13T17:07:25.742808Z",
     "start_time": "2020-11-13T17:07:25.105807Z"
    }
   },
   "outputs": [
    {
     "name": "stderr",
     "output_type": "stream",
     "text": [
      "Special tokens have been added in the vocabulary, make sure the associated word embedding are fine-tuned or trained.\n"
     ]
    }
   ],
   "source": [
    "tokenizer = GPT2Tokenizer.from_pretrained('gpt2',\n",
    "                                          bos_token='<|sot|>', eos_token='<|eot|>', pad_token='<|pad|>')"
   ]
  },
  {
   "cell_type": "code",
   "execution_count": 65,
   "metadata": {
    "ExecuteTime": {
     "end_time": "2020-11-13T17:07:25.746806Z",
     "start_time": "2020-11-13T17:07:25.743805Z"
    }
   },
   "outputs": [
    {
     "name": "stdout",
     "output_type": "stream",
     "text": [
      "Max model length is 1024 for this model\n",
      "Beginning of sentence token <|sot|> token has the id 50257\n",
      "End of sentence token <|eot|> has the id 50258\n",
      "Padding token <|pad|> has the id 50259\n"
     ]
    }
   ],
   "source": [
    "print(\"Max model length is {} for this model\".format(tokenizer.model_max_length))\n",
    "print(\"Beginning of sentence token {} token has the id {}\".format(tokenizer.convert_ids_to_tokens(tokenizer.bos_token_id), tokenizer.bos_token_id))\n",
    "print(\"End of sentence token {} has the id {}\".format(tokenizer.convert_ids_to_tokens(tokenizer.eos_token_id), tokenizer.eos_token_id))\n",
    "print(\"Padding token {} has the id {}\".format(tokenizer.convert_ids_to_tokens(tokenizer.pad_token_id), tokenizer.pad_token_id))"
   ]
  },
  {
   "cell_type": "code",
   "execution_count": 66,
   "metadata": {
    "ExecuteTime": {
     "end_time": "2020-11-13T17:07:25.753808Z",
     "start_time": "2020-11-13T17:07:25.747806Z"
    }
   },
   "outputs": [],
   "source": [
    "class GPT_Finetune_Dataset(Dataset):\n",
    "\n",
    "  def __init__(self, txt_list, tokenizer, gpt2_type=\"gpt2\", max_length=200):\n",
    "\n",
    "    self.tokenizer = tokenizer\n",
    "    self.input = []\n",
    "    self.attn = []\n",
    "\n",
    "    for txt in tqdm(txt_list):\n",
    "\n",
    "      encodings_dict = tokenizer('<|sot|>'+ txt +'<|eot|>',\n",
    "                                 truncation=True, max_length=max_length, padding=\"max_length\")\n",
    "\n",
    "      self.input.append(torch.tensor(encodings_dict['input_ids']))\n",
    "      self.attn.append(torch.tensor(encodings_dict['attention_mask']))\n",
    "    \n",
    "  def __len__(self):\n",
    "    return len(self.input)\n",
    "\n",
    "  def __getitem__(self, idx):\n",
    "    return self.input[idx], self.attn[idx] "
   ]
  },
  {
   "cell_type": "code",
   "execution_count": 67,
   "metadata": {
    "ExecuteTime": {
     "end_time": "2020-11-13T17:07:39.255919Z",
     "start_time": "2020-11-13T17:07:25.754807Z"
    }
   },
   "outputs": [
    {
     "data": {
      "application/vnd.jupyter.widget-view+json": {
       "model_id": "79f612d59f4d4ded99ffb846ce798a5a",
       "version_major": 2,
       "version_minor": 0
      },
      "text/plain": [
       "HBox(children=(IntProgress(value=0, max=45270), HTML(value='')))"
      ]
     },
     "metadata": {},
     "output_type": "display_data"
    },
    {
     "name": "stdout",
     "output_type": "stream",
     "text": [
      "\n"
     ]
    }
   ],
   "source": [
    "data = GPT_Finetune_Dataset(reviews, tokenizer)"
   ]
  },
  {
   "cell_type": "code",
   "execution_count": 68,
   "metadata": {
    "ExecuteTime": {
     "end_time": "2020-11-13T17:07:39.261918Z",
     "start_time": "2020-11-13T17:07:39.256918Z"
    }
   },
   "outputs": [],
   "source": [
    "train_size = int(len(data) * .7)\n",
    "test_size = len(data) - train_size\n",
    "\n",
    "train_set, test_set = random_split(data, [train_size, test_size])"
   ]
  },
  {
   "cell_type": "code",
   "execution_count": 69,
   "metadata": {
    "ExecuteTime": {
     "end_time": "2020-11-13T17:07:39.267917Z",
     "start_time": "2020-11-13T17:07:39.262917Z"
    }
   },
   "outputs": [
    {
     "name": "stdout",
     "output_type": "stream",
     "text": [
      "31688 training samples\n",
      "13582 test samples\n"
     ]
    }
   ],
   "source": [
    "print('{} training samples'.format(train_size))\n",
    "print('{} test samples'.format(test_size))"
   ]
  },
  {
   "cell_type": "code",
   "execution_count": 70,
   "metadata": {
    "ExecuteTime": {
     "end_time": "2020-11-13T17:07:39.281918Z",
     "start_time": "2020-11-13T17:07:39.268916Z"
    }
   },
   "outputs": [],
   "source": [
    "batch_size = 3\n",
    "train_dataloader = DataLoader(\n",
    "            train_set,  # The training set\n",
    "            sampler = RandomSampler(train_set), # Random sampler\n",
    "            batch_size = batch_size # Trains with this batch size for memory reasons\n",
    "        )\n",
    "\n",
    "test_dataloader = DataLoader(\n",
    "            test_set, # The validation samples.\n",
    "            sampler = SequentialSampler(test_set), # Pull out batches sequentially since order doesn't matter\n",
    "            batch_size = batch_size \n",
    "        )"
   ]
  },
  {
   "cell_type": "code",
   "execution_count": 71,
   "metadata": {
    "ExecuteTime": {
     "end_time": "2020-11-13T17:07:39.292917Z",
     "start_time": "2020-11-13T17:07:39.283919Z"
    }
   },
   "outputs": [
    {
     "data": {
      "text/plain": [
       "device(type='cuda')"
      ]
     },
     "execution_count": 71,
     "metadata": {},
     "output_type": "execute_result"
    }
   ],
   "source": [
    "device = torch.device(\"cuda\" if torch.cuda.is_available() else \"cpu\")\n",
    "device"
   ]
  },
  {
   "cell_type": "code",
   "execution_count": 85,
   "metadata": {
    "ExecuteTime": {
     "end_time": "2020-11-13T17:07:45.222480Z",
     "start_time": "2020-11-13T17:07:39.295917Z"
    }
   },
   "outputs": [],
   "source": [
    "# Get config\n",
    "configuration = GPT2Config.from_pretrained('gpt2', output_hidden_states=False)\n",
    "\n",
    "# Model instantiation\n",
    "model = GPT2LMHeadModel.from_pretrained(\"gpt2\", config=configuration)\n",
    "\n",
    "# Necessary because of the custom tokens\n",
    "model.resize_token_embeddings(len(tokenizer))\n",
    "\n",
    "# Model to the GPU\n",
    "device = torch.device('cpu')#\"cuda\" if torch.cuda.is_available() else \"cpu\")\n",
    "model.cuda()\n",
    "\n",
    "seed_val = 42\n",
    "\n",
    "# Setting seeds\n",
    "random.seed(seed_val)\n",
    "np.random.seed(seed_val)\n",
    "torch.manual_seed(seed_val)\n",
    "torch.cuda.manual_seed_all(seed_val)"
   ]
  },
  {
   "cell_type": "code",
   "execution_count": null,
   "metadata": {
    "ExecuteTime": {
     "end_time": "2020-11-13T17:07:45.227477Z",
     "start_time": "2020-11-13T17:07:45.223477Z"
    }
   },
   "outputs": [],
   "source": [
    "# Setting Parameters\n",
    "epochs = 5\n",
    "learning_rate = .001#.00005\n",
    "warmup_steps = 50\n",
    "\n",
    "# this produces sample output every 100 steps\n",
    "sample_every = 100"
   ]
  },
  {
   "cell_type": "code",
   "execution_count": null,
   "metadata": {
    "ExecuteTime": {
     "end_time": "2020-11-13T17:07:45.234477Z",
     "start_time": "2020-11-13T17:07:45.228480Z"
    }
   },
   "outputs": [],
   "source": [
    "#AdamW is a class from the huggingface library that schedules weights\n",
    "optimizer = AdamW(model.parameters(),\n",
    "                  lr = learning_rate\n",
    "                )"
   ]
  },
  {
   "cell_type": "code",
   "execution_count": null,
   "metadata": {
    "ExecuteTime": {
     "end_time": "2020-11-13T17:07:45.239480Z",
     "start_time": "2020-11-13T17:07:45.235477Z"
    }
   },
   "outputs": [],
   "source": [
    "total_steps = len(train_dataloader) * epochs\n",
    "\n",
    "# Adjusts the learning rate as the model steps through\n",
    "scheduler = get_linear_schedule_with_warmup(optimizer, \n",
    "                                            num_warmup_steps = warmup_steps, \n",
    "                                            num_training_steps = total_steps)"
   ]
  },
  {
   "cell_type": "code",
   "execution_count": 94,
   "metadata": {
    "ExecuteTime": {
     "end_time": "2020-11-13T18:39:45.233263Z",
     "start_time": "2020-11-13T17:07:45.240477Z"
    }
   },
   "outputs": [
    {
     "name": "stdout",
     "output_type": "stream",
     "text": [
      "======== Epoch 1 / 5 ========\n"
     ]
    },
    {
     "ename": "KeyboardInterrupt",
     "evalue": "",
     "output_type": "error",
     "traceback": [
      "\u001b[1;31m---------------------------------------------------------------------------\u001b[0m",
      "\u001b[1;31mKeyboardInterrupt\u001b[0m                         Traceback (most recent call last)",
      "\u001b[1;32m<ipython-input-94-cdc4c5aee224>\u001b[0m in \u001b[0;36m<module>\u001b[1;34m\u001b[0m\n\u001b[0;32m     27\u001b[0m                           \u001b[0mlabels\u001b[0m\u001b[1;33m=\u001b[0m\u001b[0mb_labels\u001b[0m\u001b[1;33m,\u001b[0m\u001b[1;33m\u001b[0m\u001b[1;33m\u001b[0m\u001b[0m\n\u001b[0;32m     28\u001b[0m                           \u001b[0mattention_mask\u001b[0m \u001b[1;33m=\u001b[0m \u001b[0mb_masks\u001b[0m\u001b[1;33m,\u001b[0m\u001b[1;33m\u001b[0m\u001b[1;33m\u001b[0m\u001b[0m\n\u001b[1;32m---> 29\u001b[1;33m                           \u001b[0mtoken_type_ids\u001b[0m\u001b[1;33m=\u001b[0m\u001b[1;32mNone\u001b[0m\u001b[1;33m\u001b[0m\u001b[1;33m\u001b[0m\u001b[0m\n\u001b[0m\u001b[0;32m     30\u001b[0m                         )\n\u001b[0;32m     31\u001b[0m \u001b[1;33m\u001b[0m\u001b[0m\n",
      "\u001b[1;32m~\\Anaconda3\\envs\\learn-env\\lib\\site-packages\\torch\\nn\\modules\\module.py\u001b[0m in \u001b[0;36m_call_impl\u001b[1;34m(self, *input, **kwargs)\u001b[0m\n\u001b[0;32m    725\u001b[0m             \u001b[0mresult\u001b[0m \u001b[1;33m=\u001b[0m \u001b[0mself\u001b[0m\u001b[1;33m.\u001b[0m\u001b[0m_slow_forward\u001b[0m\u001b[1;33m(\u001b[0m\u001b[1;33m*\u001b[0m\u001b[0minput\u001b[0m\u001b[1;33m,\u001b[0m \u001b[1;33m**\u001b[0m\u001b[0mkwargs\u001b[0m\u001b[1;33m)\u001b[0m\u001b[1;33m\u001b[0m\u001b[1;33m\u001b[0m\u001b[0m\n\u001b[0;32m    726\u001b[0m         \u001b[1;32melse\u001b[0m\u001b[1;33m:\u001b[0m\u001b[1;33m\u001b[0m\u001b[1;33m\u001b[0m\u001b[0m\n\u001b[1;32m--> 727\u001b[1;33m             \u001b[0mresult\u001b[0m \u001b[1;33m=\u001b[0m \u001b[0mself\u001b[0m\u001b[1;33m.\u001b[0m\u001b[0mforward\u001b[0m\u001b[1;33m(\u001b[0m\u001b[1;33m*\u001b[0m\u001b[0minput\u001b[0m\u001b[1;33m,\u001b[0m \u001b[1;33m**\u001b[0m\u001b[0mkwargs\u001b[0m\u001b[1;33m)\u001b[0m\u001b[1;33m\u001b[0m\u001b[1;33m\u001b[0m\u001b[0m\n\u001b[0m\u001b[0;32m    728\u001b[0m         for hook in itertools.chain(\n\u001b[0;32m    729\u001b[0m                 \u001b[0m_global_forward_hooks\u001b[0m\u001b[1;33m.\u001b[0m\u001b[0mvalues\u001b[0m\u001b[1;33m(\u001b[0m\u001b[1;33m)\u001b[0m\u001b[1;33m,\u001b[0m\u001b[1;33m\u001b[0m\u001b[1;33m\u001b[0m\u001b[0m\n",
      "\u001b[1;32m~\\Anaconda3\\envs\\learn-env\\lib\\site-packages\\transformers\\modeling_gpt2.py\u001b[0m in \u001b[0;36mforward\u001b[1;34m(self, input_ids, past_key_values, attention_mask, token_type_ids, position_ids, head_mask, inputs_embeds, encoder_hidden_states, encoder_attention_mask, labels, use_cache, output_attentions, output_hidden_states, return_dict, **kwargs)\u001b[0m\n\u001b[0;32m    785\u001b[0m             \u001b[0moutput_attentions\u001b[0m\u001b[1;33m=\u001b[0m\u001b[0moutput_attentions\u001b[0m\u001b[1;33m,\u001b[0m\u001b[1;33m\u001b[0m\u001b[1;33m\u001b[0m\u001b[0m\n\u001b[0;32m    786\u001b[0m             \u001b[0moutput_hidden_states\u001b[0m\u001b[1;33m=\u001b[0m\u001b[0moutput_hidden_states\u001b[0m\u001b[1;33m,\u001b[0m\u001b[1;33m\u001b[0m\u001b[1;33m\u001b[0m\u001b[0m\n\u001b[1;32m--> 787\u001b[1;33m             \u001b[0mreturn_dict\u001b[0m\u001b[1;33m=\u001b[0m\u001b[0mreturn_dict\u001b[0m\u001b[1;33m,\u001b[0m\u001b[1;33m\u001b[0m\u001b[1;33m\u001b[0m\u001b[0m\n\u001b[0m\u001b[0;32m    788\u001b[0m         )\n\u001b[0;32m    789\u001b[0m         \u001b[0mhidden_states\u001b[0m \u001b[1;33m=\u001b[0m \u001b[0mtransformer_outputs\u001b[0m\u001b[1;33m[\u001b[0m\u001b[1;36m0\u001b[0m\u001b[1;33m]\u001b[0m\u001b[1;33m\u001b[0m\u001b[1;33m\u001b[0m\u001b[0m\n",
      "\u001b[1;32m~\\Anaconda3\\envs\\learn-env\\lib\\site-packages\\torch\\nn\\modules\\module.py\u001b[0m in \u001b[0;36m_call_impl\u001b[1;34m(self, *input, **kwargs)\u001b[0m\n\u001b[0;32m    725\u001b[0m             \u001b[0mresult\u001b[0m \u001b[1;33m=\u001b[0m \u001b[0mself\u001b[0m\u001b[1;33m.\u001b[0m\u001b[0m_slow_forward\u001b[0m\u001b[1;33m(\u001b[0m\u001b[1;33m*\u001b[0m\u001b[0minput\u001b[0m\u001b[1;33m,\u001b[0m \u001b[1;33m**\u001b[0m\u001b[0mkwargs\u001b[0m\u001b[1;33m)\u001b[0m\u001b[1;33m\u001b[0m\u001b[1;33m\u001b[0m\u001b[0m\n\u001b[0;32m    726\u001b[0m         \u001b[1;32melse\u001b[0m\u001b[1;33m:\u001b[0m\u001b[1;33m\u001b[0m\u001b[1;33m\u001b[0m\u001b[0m\n\u001b[1;32m--> 727\u001b[1;33m             \u001b[0mresult\u001b[0m \u001b[1;33m=\u001b[0m \u001b[0mself\u001b[0m\u001b[1;33m.\u001b[0m\u001b[0mforward\u001b[0m\u001b[1;33m(\u001b[0m\u001b[1;33m*\u001b[0m\u001b[0minput\u001b[0m\u001b[1;33m,\u001b[0m \u001b[1;33m**\u001b[0m\u001b[0mkwargs\u001b[0m\u001b[1;33m)\u001b[0m\u001b[1;33m\u001b[0m\u001b[1;33m\u001b[0m\u001b[0m\n\u001b[0m\u001b[0;32m    728\u001b[0m         for hook in itertools.chain(\n\u001b[0;32m    729\u001b[0m                 \u001b[0m_global_forward_hooks\u001b[0m\u001b[1;33m.\u001b[0m\u001b[0mvalues\u001b[0m\u001b[1;33m(\u001b[0m\u001b[1;33m)\u001b[0m\u001b[1;33m,\u001b[0m\u001b[1;33m\u001b[0m\u001b[1;33m\u001b[0m\u001b[0m\n",
      "\u001b[1;32m~\\Anaconda3\\envs\\learn-env\\lib\\site-packages\\transformers\\modeling_gpt2.py\u001b[0m in \u001b[0;36mforward\u001b[1;34m(self, input_ids, past_key_values, attention_mask, token_type_ids, position_ids, head_mask, inputs_embeds, encoder_hidden_states, encoder_attention_mask, use_cache, output_attentions, output_hidden_states, return_dict, **kwargs)\u001b[0m\n\u001b[0;32m    657\u001b[0m                     \u001b[0mencoder_attention_mask\u001b[0m\u001b[1;33m=\u001b[0m\u001b[0mencoder_attention_mask\u001b[0m\u001b[1;33m,\u001b[0m\u001b[1;33m\u001b[0m\u001b[1;33m\u001b[0m\u001b[0m\n\u001b[0;32m    658\u001b[0m                     \u001b[0muse_cache\u001b[0m\u001b[1;33m=\u001b[0m\u001b[0muse_cache\u001b[0m\u001b[1;33m,\u001b[0m\u001b[1;33m\u001b[0m\u001b[1;33m\u001b[0m\u001b[0m\n\u001b[1;32m--> 659\u001b[1;33m                     \u001b[0moutput_attentions\u001b[0m\u001b[1;33m=\u001b[0m\u001b[0moutput_attentions\u001b[0m\u001b[1;33m,\u001b[0m\u001b[1;33m\u001b[0m\u001b[1;33m\u001b[0m\u001b[0m\n\u001b[0m\u001b[0;32m    660\u001b[0m                 )\n\u001b[0;32m    661\u001b[0m \u001b[1;33m\u001b[0m\u001b[0m\n",
      "\u001b[1;32m~\\Anaconda3\\envs\\learn-env\\lib\\site-packages\\torch\\nn\\modules\\module.py\u001b[0m in \u001b[0;36m_call_impl\u001b[1;34m(self, *input, **kwargs)\u001b[0m\n\u001b[0;32m    725\u001b[0m             \u001b[0mresult\u001b[0m \u001b[1;33m=\u001b[0m \u001b[0mself\u001b[0m\u001b[1;33m.\u001b[0m\u001b[0m_slow_forward\u001b[0m\u001b[1;33m(\u001b[0m\u001b[1;33m*\u001b[0m\u001b[0minput\u001b[0m\u001b[1;33m,\u001b[0m \u001b[1;33m**\u001b[0m\u001b[0mkwargs\u001b[0m\u001b[1;33m)\u001b[0m\u001b[1;33m\u001b[0m\u001b[1;33m\u001b[0m\u001b[0m\n\u001b[0;32m    726\u001b[0m         \u001b[1;32melse\u001b[0m\u001b[1;33m:\u001b[0m\u001b[1;33m\u001b[0m\u001b[1;33m\u001b[0m\u001b[0m\n\u001b[1;32m--> 727\u001b[1;33m             \u001b[0mresult\u001b[0m \u001b[1;33m=\u001b[0m \u001b[0mself\u001b[0m\u001b[1;33m.\u001b[0m\u001b[0mforward\u001b[0m\u001b[1;33m(\u001b[0m\u001b[1;33m*\u001b[0m\u001b[0minput\u001b[0m\u001b[1;33m,\u001b[0m \u001b[1;33m**\u001b[0m\u001b[0mkwargs\u001b[0m\u001b[1;33m)\u001b[0m\u001b[1;33m\u001b[0m\u001b[1;33m\u001b[0m\u001b[0m\n\u001b[0m\u001b[0;32m    728\u001b[0m         for hook in itertools.chain(\n\u001b[0;32m    729\u001b[0m                 \u001b[0m_global_forward_hooks\u001b[0m\u001b[1;33m.\u001b[0m\u001b[0mvalues\u001b[0m\u001b[1;33m(\u001b[0m\u001b[1;33m)\u001b[0m\u001b[1;33m,\u001b[0m\u001b[1;33m\u001b[0m\u001b[1;33m\u001b[0m\u001b[0m\n",
      "\u001b[1;32m~\\Anaconda3\\envs\\learn-env\\lib\\site-packages\\transformers\\modeling_gpt2.py\u001b[0m in \u001b[0;36mforward\u001b[1;34m(self, hidden_states, layer_past, attention_mask, head_mask, encoder_hidden_states, encoder_attention_mask, use_cache, output_attentions)\u001b[0m\n\u001b[0;32m    318\u001b[0m             \u001b[0moutputs\u001b[0m \u001b[1;33m=\u001b[0m \u001b[0moutputs\u001b[0m \u001b[1;33m+\u001b[0m \u001b[0mcross_attn_outputs\u001b[0m\u001b[1;33m[\u001b[0m\u001b[1;36m2\u001b[0m\u001b[1;33m:\u001b[0m\u001b[1;33m]\u001b[0m  \u001b[1;31m# add cross attentions if we output attention weights\u001b[0m\u001b[1;33m\u001b[0m\u001b[1;33m\u001b[0m\u001b[0m\n\u001b[0;32m    319\u001b[0m \u001b[1;33m\u001b[0m\u001b[0m\n\u001b[1;32m--> 320\u001b[1;33m         \u001b[0mfeed_forward_hidden_states\u001b[0m \u001b[1;33m=\u001b[0m \u001b[0mself\u001b[0m\u001b[1;33m.\u001b[0m\u001b[0mmlp\u001b[0m\u001b[1;33m(\u001b[0m\u001b[0mself\u001b[0m\u001b[1;33m.\u001b[0m\u001b[0mln_2\u001b[0m\u001b[1;33m(\u001b[0m\u001b[0mhidden_states\u001b[0m\u001b[1;33m)\u001b[0m\u001b[1;33m)\u001b[0m\u001b[1;33m\u001b[0m\u001b[1;33m\u001b[0m\u001b[0m\n\u001b[0m\u001b[0;32m    321\u001b[0m         \u001b[1;31m# residual connection\u001b[0m\u001b[1;33m\u001b[0m\u001b[1;33m\u001b[0m\u001b[1;33m\u001b[0m\u001b[0m\n\u001b[0;32m    322\u001b[0m         \u001b[0mhidden_states\u001b[0m \u001b[1;33m=\u001b[0m \u001b[0mhidden_states\u001b[0m \u001b[1;33m+\u001b[0m \u001b[0mfeed_forward_hidden_states\u001b[0m\u001b[1;33m\u001b[0m\u001b[1;33m\u001b[0m\u001b[0m\n",
      "\u001b[1;32m~\\Anaconda3\\envs\\learn-env\\lib\\site-packages\\torch\\nn\\modules\\module.py\u001b[0m in \u001b[0;36m_call_impl\u001b[1;34m(self, *input, **kwargs)\u001b[0m\n\u001b[0;32m    725\u001b[0m             \u001b[0mresult\u001b[0m \u001b[1;33m=\u001b[0m \u001b[0mself\u001b[0m\u001b[1;33m.\u001b[0m\u001b[0m_slow_forward\u001b[0m\u001b[1;33m(\u001b[0m\u001b[1;33m*\u001b[0m\u001b[0minput\u001b[0m\u001b[1;33m,\u001b[0m \u001b[1;33m**\u001b[0m\u001b[0mkwargs\u001b[0m\u001b[1;33m)\u001b[0m\u001b[1;33m\u001b[0m\u001b[1;33m\u001b[0m\u001b[0m\n\u001b[0;32m    726\u001b[0m         \u001b[1;32melse\u001b[0m\u001b[1;33m:\u001b[0m\u001b[1;33m\u001b[0m\u001b[1;33m\u001b[0m\u001b[0m\n\u001b[1;32m--> 727\u001b[1;33m             \u001b[0mresult\u001b[0m \u001b[1;33m=\u001b[0m \u001b[0mself\u001b[0m\u001b[1;33m.\u001b[0m\u001b[0mforward\u001b[0m\u001b[1;33m(\u001b[0m\u001b[1;33m*\u001b[0m\u001b[0minput\u001b[0m\u001b[1;33m,\u001b[0m \u001b[1;33m**\u001b[0m\u001b[0mkwargs\u001b[0m\u001b[1;33m)\u001b[0m\u001b[1;33m\u001b[0m\u001b[1;33m\u001b[0m\u001b[0m\n\u001b[0m\u001b[0;32m    728\u001b[0m         for hook in itertools.chain(\n\u001b[0;32m    729\u001b[0m                 \u001b[0m_global_forward_hooks\u001b[0m\u001b[1;33m.\u001b[0m\u001b[0mvalues\u001b[0m\u001b[1;33m(\u001b[0m\u001b[1;33m)\u001b[0m\u001b[1;33m,\u001b[0m\u001b[1;33m\u001b[0m\u001b[1;33m\u001b[0m\u001b[0m\n",
      "\u001b[1;32m~\\Anaconda3\\envs\\learn-env\\lib\\site-packages\\transformers\\modeling_gpt2.py\u001b[0m in \u001b[0;36mforward\u001b[1;34m(self, x)\u001b[0m\n\u001b[0;32m    259\u001b[0m     \u001b[1;32mdef\u001b[0m \u001b[0mforward\u001b[0m\u001b[1;33m(\u001b[0m\u001b[0mself\u001b[0m\u001b[1;33m,\u001b[0m \u001b[0mx\u001b[0m\u001b[1;33m)\u001b[0m\u001b[1;33m:\u001b[0m\u001b[1;33m\u001b[0m\u001b[1;33m\u001b[0m\u001b[0m\n\u001b[0;32m    260\u001b[0m         \u001b[0mh\u001b[0m \u001b[1;33m=\u001b[0m \u001b[0mself\u001b[0m\u001b[1;33m.\u001b[0m\u001b[0mact\u001b[0m\u001b[1;33m(\u001b[0m\u001b[0mself\u001b[0m\u001b[1;33m.\u001b[0m\u001b[0mc_fc\u001b[0m\u001b[1;33m(\u001b[0m\u001b[0mx\u001b[0m\u001b[1;33m)\u001b[0m\u001b[1;33m)\u001b[0m\u001b[1;33m\u001b[0m\u001b[1;33m\u001b[0m\u001b[0m\n\u001b[1;32m--> 261\u001b[1;33m         \u001b[0mh2\u001b[0m \u001b[1;33m=\u001b[0m \u001b[0mself\u001b[0m\u001b[1;33m.\u001b[0m\u001b[0mc_proj\u001b[0m\u001b[1;33m(\u001b[0m\u001b[0mh\u001b[0m\u001b[1;33m)\u001b[0m\u001b[1;33m\u001b[0m\u001b[1;33m\u001b[0m\u001b[0m\n\u001b[0m\u001b[0;32m    262\u001b[0m         \u001b[1;32mreturn\u001b[0m \u001b[0mself\u001b[0m\u001b[1;33m.\u001b[0m\u001b[0mdropout\u001b[0m\u001b[1;33m(\u001b[0m\u001b[0mh2\u001b[0m\u001b[1;33m)\u001b[0m\u001b[1;33m\u001b[0m\u001b[1;33m\u001b[0m\u001b[0m\n\u001b[0;32m    263\u001b[0m \u001b[1;33m\u001b[0m\u001b[0m\n",
      "\u001b[1;32m~\\Anaconda3\\envs\\learn-env\\lib\\site-packages\\torch\\nn\\modules\\module.py\u001b[0m in \u001b[0;36m_call_impl\u001b[1;34m(self, *input, **kwargs)\u001b[0m\n\u001b[0;32m    725\u001b[0m             \u001b[0mresult\u001b[0m \u001b[1;33m=\u001b[0m \u001b[0mself\u001b[0m\u001b[1;33m.\u001b[0m\u001b[0m_slow_forward\u001b[0m\u001b[1;33m(\u001b[0m\u001b[1;33m*\u001b[0m\u001b[0minput\u001b[0m\u001b[1;33m,\u001b[0m \u001b[1;33m**\u001b[0m\u001b[0mkwargs\u001b[0m\u001b[1;33m)\u001b[0m\u001b[1;33m\u001b[0m\u001b[1;33m\u001b[0m\u001b[0m\n\u001b[0;32m    726\u001b[0m         \u001b[1;32melse\u001b[0m\u001b[1;33m:\u001b[0m\u001b[1;33m\u001b[0m\u001b[1;33m\u001b[0m\u001b[0m\n\u001b[1;32m--> 727\u001b[1;33m             \u001b[0mresult\u001b[0m \u001b[1;33m=\u001b[0m \u001b[0mself\u001b[0m\u001b[1;33m.\u001b[0m\u001b[0mforward\u001b[0m\u001b[1;33m(\u001b[0m\u001b[1;33m*\u001b[0m\u001b[0minput\u001b[0m\u001b[1;33m,\u001b[0m \u001b[1;33m**\u001b[0m\u001b[0mkwargs\u001b[0m\u001b[1;33m)\u001b[0m\u001b[1;33m\u001b[0m\u001b[1;33m\u001b[0m\u001b[0m\n\u001b[0m\u001b[0;32m    728\u001b[0m         for hook in itertools.chain(\n\u001b[0;32m    729\u001b[0m                 \u001b[0m_global_forward_hooks\u001b[0m\u001b[1;33m.\u001b[0m\u001b[0mvalues\u001b[0m\u001b[1;33m(\u001b[0m\u001b[1;33m)\u001b[0m\u001b[1;33m,\u001b[0m\u001b[1;33m\u001b[0m\u001b[1;33m\u001b[0m\u001b[0m\n",
      "\u001b[1;32m~\\Anaconda3\\envs\\learn-env\\lib\\site-packages\\transformers\\modeling_utils.py\u001b[0m in \u001b[0;36mforward\u001b[1;34m(self, x)\u001b[0m\n\u001b[0;32m   1117\u001b[0m     \u001b[1;32mdef\u001b[0m \u001b[0mforward\u001b[0m\u001b[1;33m(\u001b[0m\u001b[0mself\u001b[0m\u001b[1;33m,\u001b[0m \u001b[0mx\u001b[0m\u001b[1;33m)\u001b[0m\u001b[1;33m:\u001b[0m\u001b[1;33m\u001b[0m\u001b[1;33m\u001b[0m\u001b[0m\n\u001b[0;32m   1118\u001b[0m         \u001b[0msize_out\u001b[0m \u001b[1;33m=\u001b[0m \u001b[0mx\u001b[0m\u001b[1;33m.\u001b[0m\u001b[0msize\u001b[0m\u001b[1;33m(\u001b[0m\u001b[1;33m)\u001b[0m\u001b[1;33m[\u001b[0m\u001b[1;33m:\u001b[0m\u001b[1;33m-\u001b[0m\u001b[1;36m1\u001b[0m\u001b[1;33m]\u001b[0m \u001b[1;33m+\u001b[0m \u001b[1;33m(\u001b[0m\u001b[0mself\u001b[0m\u001b[1;33m.\u001b[0m\u001b[0mnf\u001b[0m\u001b[1;33m,\u001b[0m\u001b[1;33m)\u001b[0m\u001b[1;33m\u001b[0m\u001b[1;33m\u001b[0m\u001b[0m\n\u001b[1;32m-> 1119\u001b[1;33m         \u001b[0mx\u001b[0m \u001b[1;33m=\u001b[0m \u001b[0mtorch\u001b[0m\u001b[1;33m.\u001b[0m\u001b[0maddmm\u001b[0m\u001b[1;33m(\u001b[0m\u001b[0mself\u001b[0m\u001b[1;33m.\u001b[0m\u001b[0mbias\u001b[0m\u001b[1;33m,\u001b[0m \u001b[0mx\u001b[0m\u001b[1;33m.\u001b[0m\u001b[0mview\u001b[0m\u001b[1;33m(\u001b[0m\u001b[1;33m-\u001b[0m\u001b[1;36m1\u001b[0m\u001b[1;33m,\u001b[0m \u001b[0mx\u001b[0m\u001b[1;33m.\u001b[0m\u001b[0msize\u001b[0m\u001b[1;33m(\u001b[0m\u001b[1;33m-\u001b[0m\u001b[1;36m1\u001b[0m\u001b[1;33m)\u001b[0m\u001b[1;33m)\u001b[0m\u001b[1;33m,\u001b[0m \u001b[0mself\u001b[0m\u001b[1;33m.\u001b[0m\u001b[0mweight\u001b[0m\u001b[1;33m)\u001b[0m\u001b[1;33m\u001b[0m\u001b[1;33m\u001b[0m\u001b[0m\n\u001b[0m\u001b[0;32m   1120\u001b[0m         \u001b[0mx\u001b[0m \u001b[1;33m=\u001b[0m \u001b[0mx\u001b[0m\u001b[1;33m.\u001b[0m\u001b[0mview\u001b[0m\u001b[1;33m(\u001b[0m\u001b[1;33m*\u001b[0m\u001b[0msize_out\u001b[0m\u001b[1;33m)\u001b[0m\u001b[1;33m\u001b[0m\u001b[1;33m\u001b[0m\u001b[0m\n\u001b[0;32m   1121\u001b[0m         \u001b[1;32mreturn\u001b[0m \u001b[0mx\u001b[0m\u001b[1;33m\u001b[0m\u001b[1;33m\u001b[0m\u001b[0m\n",
      "\u001b[1;31mKeyboardInterrupt\u001b[0m: "
     ]
    }
   ],
   "source": [
    "timestat = time.time()\n",
    "\n",
    "stats = []\n",
    "\n",
    "model = model.to(device)\n",
    "\n",
    "for epoch_i in range(0, epochs):\n",
    "\n",
    "    # training loop\n",
    "    print('======== Epoch {:} / {:} ========'.format(epoch_i + 1, epochs))\n",
    "\n",
    "    timestat = time.time()\n",
    "\n",
    "    total_train_loss = 0\n",
    "\n",
    "    model.train()\n",
    "\n",
    "    for step, batch in enumerate(train_dataloader):\n",
    "\n",
    "        b_input_ids = batch[0].to(device)\n",
    "        b_labels = batch[0].to(device)\n",
    "        b_masks = batch[1].to(device)\n",
    "\n",
    "        model.zero_grad()        \n",
    "\n",
    "        outputs = model(  b_input_ids,\n",
    "                          labels=b_labels, \n",
    "                          attention_mask = b_masks,\n",
    "                          token_type_ids=None\n",
    "                        )\n",
    "\n",
    "        loss = outputs[0]  \n",
    "\n",
    "        batch_loss = loss.item()\n",
    "        total_train_loss += batch_loss\n",
    "\n",
    "        # Get sample every x batches.\n",
    "        if step % sample_every == 0 and not step == 0:\n",
    "\n",
    "            elapsed = time.time() - timestat\n",
    "            print('  Batch {:>5,}  of  {:>5,}. Loss: {:>5,}.   Elapsed: {:}.'.format(step, len(train_dataloader), batch_loss, elapsed))\n",
    "\n",
    "            model.eval()\n",
    "\n",
    "            sample_outputs = model.generate(\n",
    "                                    bos_token_id=random.randint(1,30000),\n",
    "                                    do_sample=True,   \n",
    "                                    top_k=50, \n",
    "                                    max_length = 200,\n",
    "                                    top_p=0.95, \n",
    "                                    num_return_sequences=1\n",
    "                                )\n",
    "            for i, sample_output in enumerate(sample_outputs):\n",
    "                  print(\"{}: {}\".format(i, tokenizer.decode(sample_output, skip_special_tokens=True)))\n",
    "            \n",
    "            model.train()\n",
    "\n",
    "        loss.backward()\n",
    "\n",
    "        optimizer.step()\n",
    "\n",
    "        scheduler.step()\n",
    "\n",
    "    # Calculate the average loss over all of the batches.\n",
    "    avg_train_loss = total_train_loss / len(train_dataloader)       \n",
    "    \n",
    "    # Measure how long this epoch took.\n",
    "    training_time = time.time() - timestat\n",
    "\n",
    "    print(\"\")\n",
    "    print(\"  Average training loss: {0:.2f}\".format(avg_train_loss))\n",
    "    print(\"  Training epoch took: {:}\".format(training_time))\n",
    "\n",
    "    # Testing loop\n",
    "    print(\"Running Validation...\")\n",
    "\n",
    "    t0 = time.time()\n",
    "\n",
    "    model.eval()\n",
    "\n",
    "    total_eval_loss = 0\n",
    "    nb_eval_steps = 0\n",
    "\n",
    "    # Evaluate data for one epoch\n",
    "    for batch in test_dataloader:\n",
    "        \n",
    "        b_input_ids = batch[0].to(device)\n",
    "        b_labels = batch[0].to(device)\n",
    "        b_masks = batch[1].to(device)\n",
    "        \n",
    "        with torch.no_grad():        \n",
    "\n",
    "            outputs  = model(b_input_ids, \n",
    "#                            token_type_ids=None, \n",
    "                             attention_mask = b_masks,\n",
    "                            labels=b_labels)\n",
    "          \n",
    "            loss = outputs[0]  \n",
    "            \n",
    "        batch_loss = loss.item()\n",
    "        total_eval_loss += batch_loss        \n",
    "\n",
    "    avg_val_loss = total_eval_loss / len(test_dataloader)\n",
    "    \n",
    "    validation_time = time.time() - timestat \n",
    "\n",
    "    print(\"  Validation Loss: {0:.2f}\".format(avg_val_loss))\n",
    "    print(\"  Validation took: {:}\".format(validation_time))\n",
    "\n",
    "    # Record all statistics from this epoch.\n",
    "    stats.append(\n",
    "        {\n",
    "            'epoch': epoch_i + 1,\n",
    "            'Training Loss': avg_train_loss,\n",
    "            'Valid. Loss': avg_val_loss,\n",
    "            'Training Time': training_time,\n",
    "            'Validation Time': validation_time\n",
    "        }\n",
    "    )"
   ]
  },
  {
   "cell_type": "code",
   "execution_count": null,
   "metadata": {
    "ExecuteTime": {
     "end_time": "2020-11-13T18:39:45.293263Z",
     "start_time": "2020-11-13T18:39:45.250263Z"
    }
   },
   "outputs": [],
   "source": [
    "training_df = pd.DataFrame(data=stats)\n",
    "\n",
    "training_df = training_df.set_index('epoch')\n",
    "\n",
    "training_df"
   ]
  },
  {
   "cell_type": "code",
   "execution_count": null,
   "metadata": {
    "ExecuteTime": {
     "end_time": "2020-11-13T19:31:45.046163Z",
     "start_time": "2020-11-13T19:31:44.924162Z"
    }
   },
   "outputs": [],
   "source": [
    "sns.set(font_scale=1.5)\n",
    "plt.rcParams[\"figure.figsize\"] = (12,6)\n",
    "plt.plot(training_df['Training Loss'], 'r-o', label=\"Training\")\n",
    "plt.plot(training_df['Valid. Loss'], 'b-o', label=\"Testing\")\n",
    "plt.title(\"Training & Testing Loss\")\n",
    "plt.xlabel(\"Epoch\")\n",
    "plt.ylabel(\"Loss\")\n",
    "plt.legend()\n",
    "plt.xticks([1, 2, 3, 4])\n",
    "plt.show()"
   ]
  },
  {
   "cell_type": "code",
   "execution_count": 44,
   "metadata": {
    "ExecuteTime": {
     "end_time": "2020-11-13T19:44:13.346877Z",
     "start_time": "2020-11-13T19:44:13.343876Z"
    }
   },
   "outputs": [],
   "source": [
    "params = list(model.named_parameters())"
   ]
  },
  {
   "cell_type": "code",
   "execution_count": 50,
   "metadata": {
    "ExecuteTime": {
     "end_time": "2020-11-13T19:45:54.186803Z",
     "start_time": "2020-11-13T19:45:54.181805Z"
    }
   },
   "outputs": [],
   "source": [
    "# for param in params:\n",
    "#     print(param[0])"
   ]
  },
  {
   "cell_type": "code",
   "execution_count": null,
   "metadata": {
    "ExecuteTime": {
     "end_time": "2020-11-13T19:48:42.171694Z",
     "start_time": "2020-11-13T19:48:42.166693Z"
    }
   },
   "outputs": [],
   "source": [
    "output_dir = './model_save/'\n",
    "\n",
    "if not os.path.exists(output_dir):\n",
    "    os.makedirs(output_dir)"
   ]
  },
  {
   "cell_type": "code",
   "execution_count": null,
   "metadata": {
    "ExecuteTime": {
     "end_time": "2020-11-13T19:49:20.881724Z",
     "start_time": "2020-11-13T19:49:20.878724Z"
    }
   },
   "outputs": [],
   "source": [
    "print(\"Saving model to {}\".format(output_dir))"
   ]
  },
  {
   "cell_type": "code",
   "execution_count": null,
   "metadata": {
    "ExecuteTime": {
     "end_time": "2020-11-13T19:52:16.026553Z",
     "start_time": "2020-11-13T19:52:14.581877Z"
    }
   },
   "outputs": [],
   "source": [
    "model_to_save = model.module if hasattr(model, 'module') else model\n",
    "model_to_save.save_pretrained(output_dir)\n",
    "tokenizer.save_pretrained(output_dir)"
   ]
  },
  {
   "cell_type": "markdown",
   "metadata": {},
   "source": [
    "## BOOKMARK: MAKING PROMPTS "
   ]
  },
  {
   "cell_type": "code",
   "execution_count": null,
   "metadata": {
    "ExecuteTime": {
     "end_time": "2020-11-13T21:06:15.875080Z",
     "start_time": "2020-11-13T21:06:15.872081Z"
    }
   },
   "outputs": [],
   "source": [
    "prompts = []\n",
    "for review in reviews[:15]:\n",
    "    try:\n",
    "        prompts.append(\"<|sot|> \" + ' '.join(review.split()))\n",
    "    except:\n",
    "        pass"
   ]
  },
  {
   "cell_type": "code",
   "execution_count": null,
   "metadata": {
    "ExecuteTime": {
     "end_time": "2020-11-13T21:06:16.307080Z",
     "start_time": "2020-11-13T21:06:16.303081Z"
    }
   },
   "outputs": [],
   "source": [
    "prompts"
   ]
  },
  {
   "cell_type": "code",
   "execution_count": 112,
   "metadata": {
    "ExecuteTime": {
     "end_time": "2020-11-13T21:07:55.776054Z",
     "start_time": "2020-11-13T21:07:55.760054Z"
    }
   },
   "outputs": [],
   "source": [
    "model.eval()\n",
    "\n",
    "gen_prompt = []\n",
    "for prompt in prompts:\n",
    "    gen_prompt.append(torch.tensor(tokenizer.encode(prompt)).unsqueeze(0).to(device))"
   ]
  },
  {
   "cell_type": "code",
   "execution_count": null,
   "metadata": {
    "ExecuteTime": {
     "end_time": "2020-11-13T21:41:17.055828Z",
     "start_time": "2020-11-13T21:39:28.822830Z"
    }
   },
   "outputs": [],
   "source": [
    "for x, promp in enumerate(gen_prompt):\n",
    "    print('---------------------------------')\n",
    "    print('''The prompt is \"{}\"'''.format(prompts[x]))\n",
    "    print('---------------------------------')\n",
    "    sample_outputs = model.generate(\n",
    "                                    promp, \n",
    "                                    bos_token_id= random.randint(1, 100000),\n",
    "                                    do_sample=True,   \n",
    "                                    top_k=30, \n",
    "                                    min_length=20,\n",
    "                                    max_length = 40,\n",
    "                                    top_p=0.95,\n",
    "                                    num_return_sequences=5\n",
    "                                    )\n",
    "\n",
    "    for i, sample_output in enumerate(sample_outputs):\n",
    "      print(\"{}: {}\\n\\n\".format(i, tokenizer.decode(sample_output, skip_special_tokens=True)))"
   ]
  },
  {
   "cell_type": "code",
   "execution_count": null,
   "metadata": {},
   "outputs": [],
   "source": []
  }
 ],
 "metadata": {
  "kernelspec": {
   "display_name": "Python 3",
   "language": "python",
   "name": "python3"
  },
  "language_info": {
   "codemirror_mode": {
    "name": "ipython",
    "version": 3
   },
   "file_extension": ".py",
   "mimetype": "text/x-python",
   "name": "python",
   "nbconvert_exporter": "python",
   "pygments_lexer": "ipython3",
   "version": "3.6.9"
  },
  "toc": {
   "base_numbering": 1,
   "nav_menu": {},
   "number_sections": true,
   "sideBar": true,
   "skip_h1_title": false,
   "title_cell": "Table of Contents",
   "title_sidebar": "Contents",
   "toc_cell": false,
   "toc_position": {
    "height": "calc(100% - 180px)",
    "left": "10px",
    "top": "150px",
    "width": "305.455px"
   },
   "toc_section_display": true,
   "toc_window_display": true
  }
 },
 "nbformat": 4,
 "nbformat_minor": 2
}
